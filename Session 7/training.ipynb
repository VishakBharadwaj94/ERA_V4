{
  "nbformat": 4,
  "nbformat_minor": 0,
  "metadata": {
    "colab": {
      "provenance": [],
      "gpuType": "T4"
    },
    "kernelspec": {
      "name": "python3",
      "display_name": "Python 3"
    },
    "language_info": {
      "name": "python"
    },
    "accelerator": "GPU"
  },
  "cells": [
    {
      "cell_type": "code",
      "source": [
        "import torch\n",
        "import torch.optim as optim\n",
        "from torch.optim.lr_scheduler import StepLR\n",
        "from torchsummary import summary\n",
        "\n",
        "# Import custom modules\n",
        "from model import Net\n",
        "from dataset import get_cifar10_loaders\n",
        "from train import train, test, reset_metrics, train_losses, test_losses, train_acc, test_acc\n",
        "\n",
        "\n",
        "cuda = torch.cuda.is_available()\n",
        "device = torch.device(\"cuda\" if cuda else \"cpu\")\n",
        "print(f\"CUDA Available? {cuda}\")\n",
        "print(device)\n",
        "\n",
        "\n",
        "train_loader, test_loader = get_cifar10_loaders(batch_size=128, num_workers=4)\n",
        "\n",
        "model = Net(dropout_value=0.05).to(device)\n",
        "\n",
        "# Print model summary\n",
        "summary(model, input_size=(3, 32, 32))"
      ],
      "metadata": {
        "colab": {
          "base_uri": "https://localhost:8080/"
        },
        "id": "cxOZOvrKZWaE",
        "outputId": "5417a63f-b5a0-4df7-e83a-25ebfdb822fd"
      },
      "execution_count": 16,
      "outputs": [
        {
          "output_type": "stream",
          "name": "stdout",
          "text": [
            "CUDA Available? True\n",
            "cuda\n",
            "----------------------------------------------------------------\n",
            "        Layer (type)               Output Shape         Param #\n",
            "================================================================\n",
            "            Conv2d-1           [-1, 14, 32, 32]             378\n",
            "       BatchNorm2d-2           [-1, 14, 32, 32]              28\n",
            "              ReLU-3           [-1, 14, 32, 32]               0\n",
            "           Dropout-4           [-1, 14, 32, 32]               0\n",
            "            Conv2d-5           [-1, 22, 32, 32]           2,772\n",
            "       BatchNorm2d-6           [-1, 22, 32, 32]              44\n",
            "              ReLU-7           [-1, 22, 32, 32]               0\n",
            "           Dropout-8           [-1, 22, 32, 32]               0\n",
            "            Conv2d-9           [-1, 22, 32, 32]             198\n",
            "           Conv2d-10           [-1, 32, 32, 32]             704\n",
            "DepthwiseSeparableConv-11           [-1, 32, 32, 32]               0\n",
            "      BatchNorm2d-12           [-1, 32, 32, 32]              64\n",
            "             ReLU-13           [-1, 32, 32, 32]               0\n",
            "          Dropout-14           [-1, 32, 32, 32]               0\n",
            "           Conv2d-15           [-1, 44, 32, 32]          12,672\n",
            "      BatchNorm2d-16           [-1, 44, 32, 32]              88\n",
            "             ReLU-17           [-1, 44, 32, 32]               0\n",
            "          Dropout-18           [-1, 44, 32, 32]               0\n",
            "           Conv2d-19           [-1, 44, 16, 16]          17,424\n",
            "      BatchNorm2d-20           [-1, 44, 16, 16]              88\n",
            "             ReLU-21           [-1, 44, 16, 16]               0\n",
            "          Dropout-22           [-1, 44, 16, 16]               0\n",
            "           Conv2d-23           [-1, 52, 16, 16]          20,592\n",
            "      BatchNorm2d-24           [-1, 52, 16, 16]             104\n",
            "             ReLU-25           [-1, 52, 16, 16]               0\n",
            "          Dropout-26           [-1, 52, 16, 16]               0\n",
            "           Conv2d-27           [-1, 52, 16, 16]          24,336\n",
            "      BatchNorm2d-28           [-1, 52, 16, 16]             104\n",
            "             ReLU-29           [-1, 52, 16, 16]               0\n",
            "          Dropout-30           [-1, 52, 16, 16]               0\n",
            "           Conv2d-31           [-1, 60, 16, 16]          28,080\n",
            "      BatchNorm2d-32           [-1, 60, 16, 16]             120\n",
            "             ReLU-33           [-1, 60, 16, 16]               0\n",
            "          Dropout-34           [-1, 60, 16, 16]               0\n",
            "           Conv2d-35             [-1, 60, 8, 8]          32,400\n",
            "      BatchNorm2d-36             [-1, 60, 8, 8]             120\n",
            "             ReLU-37             [-1, 60, 8, 8]               0\n",
            "          Dropout-38             [-1, 60, 8, 8]               0\n",
            "           Conv2d-39             [-1, 56, 8, 8]          30,240\n",
            "      BatchNorm2d-40             [-1, 56, 8, 8]             112\n",
            "             ReLU-41             [-1, 56, 8, 8]               0\n",
            "          Dropout-42             [-1, 56, 8, 8]               0\n",
            "           Conv2d-43             [-1, 56, 8, 8]          28,224\n",
            "      BatchNorm2d-44             [-1, 56, 8, 8]             112\n",
            "             ReLU-45             [-1, 56, 8, 8]               0\n",
            "          Dropout-46             [-1, 56, 8, 8]               0\n",
            "AdaptiveAvgPool2d-47             [-1, 56, 1, 1]               0\n",
            "           Conv2d-48             [-1, 10, 1, 1]             560\n",
            "================================================================\n",
            "Total params: 199,564\n",
            "Trainable params: 199,564\n",
            "Non-trainable params: 0\n",
            "----------------------------------------------------------------\n",
            "Input size (MB): 0.01\n",
            "Forward/backward pass size (MB): 5.88\n",
            "Params size (MB): 0.76\n",
            "Estimated Total Size (MB): 6.66\n",
            "----------------------------------------------------------------\n"
          ]
        }
      ]
    },
    {
      "cell_type": "code",
      "source": [
        "# ==================== TRAINING LOOP ====================\n",
        "\n",
        "model = Net().to(device)\n",
        "optimizer = optim.SGD(model.parameters(), lr=0.1, momentum=0.9)\n",
        "scheduler = StepLR(optimizer, step_size=4, gamma=0.6)\n",
        "\n",
        "EPOCHS = 50\n",
        "for epoch in range(EPOCHS):z\n",
        "    print(\"EPOCH:\", epoch)\n",
        "    train(model, device, train_loader, optimizer, epoch)\n",
        "    scheduler.step()\n",
        "    test(model, device, test_loader)\n",
        "\n",
        "    # Check if target reached\n",
        "    if test_acc[-1] >= 85.0:\n",
        "        print(f\"\\n{'='*80}\")\n",
        "        print(f\"🎉 TARGET REACHED! Test Accuracy: {test_acc[-1]:.2f}% >= 85.0%\")\n",
        "        print(f\"{'='*80}\\n\")\n",
        "        break"
      ],
      "metadata": {
        "colab": {
          "base_uri": "https://localhost:8080/"
        },
        "id": "iTOFOq76ZXTp",
        "outputId": "3469aa85-b454-406d-e136-1cef843370c2"
      },
      "execution_count": 17,
      "outputs": [
        {
          "output_type": "stream",
          "name": "stdout",
          "text": [
            "EPOCH: 0\n"
          ]
        },
        {
          "output_type": "stream",
          "name": "stderr",
          "text": [
            "Loss=1.3296 Batch_id=390 Accuracy=37.41: 100%|██████████| 391/391 [00:24<00:00, 15.74it/s]\n"
          ]
        },
        {
          "output_type": "stream",
          "name": "stdout",
          "text": [
            "\n",
            "Test set: Average loss: 1.4308, Accuracy: 4952/10000 (49.52%)\n",
            "\n",
            "EPOCH: 1\n"
          ]
        },
        {
          "output_type": "stream",
          "name": "stderr",
          "text": [
            "Loss=1.2881 Batch_id=390 Accuracy=52.97: 100%|██████████| 391/391 [00:24<00:00, 15.99it/s]\n"
          ]
        },
        {
          "output_type": "stream",
          "name": "stdout",
          "text": [
            "\n",
            "Test set: Average loss: 1.2258, Accuracy: 5810/10000 (58.10%)\n",
            "\n",
            "EPOCH: 2\n"
          ]
        },
        {
          "output_type": "stream",
          "name": "stderr",
          "text": [
            "Loss=1.0592 Batch_id=390 Accuracy=59.45: 100%|██████████| 391/391 [00:23<00:00, 16.32it/s]\n"
          ]
        },
        {
          "output_type": "stream",
          "name": "stdout",
          "text": [
            "\n",
            "Test set: Average loss: 1.1153, Accuracy: 6247/10000 (62.47%)\n",
            "\n",
            "EPOCH: 3\n"
          ]
        },
        {
          "output_type": "stream",
          "name": "stderr",
          "text": [
            "Loss=1.3670 Batch_id=390 Accuracy=63.66: 100%|██████████| 391/391 [00:24<00:00, 16.16it/s]\n"
          ]
        },
        {
          "output_type": "stream",
          "name": "stdout",
          "text": [
            "\n",
            "Test set: Average loss: 0.9671, Accuracy: 6680/10000 (66.80%)\n",
            "\n",
            "EPOCH: 4\n"
          ]
        },
        {
          "output_type": "stream",
          "name": "stderr",
          "text": [
            "Loss=0.8854 Batch_id=390 Accuracy=67.89: 100%|██████████| 391/391 [00:25<00:00, 15.59it/s]\n"
          ]
        },
        {
          "output_type": "stream",
          "name": "stdout",
          "text": [
            "\n",
            "Test set: Average loss: 0.7961, Accuracy: 7279/10000 (72.79%)\n",
            "\n",
            "EPOCH: 5\n"
          ]
        },
        {
          "output_type": "stream",
          "name": "stderr",
          "text": [
            "Loss=0.9386 Batch_id=390 Accuracy=69.87: 100%|██████████| 391/391 [00:24<00:00, 16.23it/s]\n"
          ]
        },
        {
          "output_type": "stream",
          "name": "stdout",
          "text": [
            "\n",
            "Test set: Average loss: 0.7413, Accuracy: 7485/10000 (74.85%)\n",
            "\n",
            "EPOCH: 6\n"
          ]
        },
        {
          "output_type": "stream",
          "name": "stderr",
          "text": [
            "Loss=1.0945 Batch_id=390 Accuracy=70.93: 100%|██████████| 391/391 [00:24<00:00, 16.23it/s]\n"
          ]
        },
        {
          "output_type": "stream",
          "name": "stdout",
          "text": [
            "\n",
            "Test set: Average loss: 0.6386, Accuracy: 7820/10000 (78.20%)\n",
            "\n",
            "EPOCH: 7\n"
          ]
        },
        {
          "output_type": "stream",
          "name": "stderr",
          "text": [
            "Loss=0.9583 Batch_id=390 Accuracy=71.63: 100%|██████████| 391/391 [00:23<00:00, 16.62it/s]\n"
          ]
        },
        {
          "output_type": "stream",
          "name": "stdout",
          "text": [
            "\n",
            "Test set: Average loss: 0.6069, Accuracy: 7909/10000 (79.09%)\n",
            "\n",
            "EPOCH: 8\n"
          ]
        },
        {
          "output_type": "stream",
          "name": "stderr",
          "text": [
            "Loss=0.8761 Batch_id=390 Accuracy=73.76: 100%|██████████| 391/391 [00:23<00:00, 16.30it/s]\n"
          ]
        },
        {
          "output_type": "stream",
          "name": "stdout",
          "text": [
            "\n",
            "Test set: Average loss: 0.5760, Accuracy: 7996/10000 (79.96%)\n",
            "\n",
            "EPOCH: 9\n"
          ]
        },
        {
          "output_type": "stream",
          "name": "stderr",
          "text": [
            "Loss=0.6714 Batch_id=390 Accuracy=74.60: 100%|██████████| 391/391 [00:23<00:00, 16.40it/s]\n"
          ]
        },
        {
          "output_type": "stream",
          "name": "stdout",
          "text": [
            "\n",
            "Test set: Average loss: 0.5288, Accuracy: 8172/10000 (81.72%)\n",
            "\n",
            "EPOCH: 10\n"
          ]
        },
        {
          "output_type": "stream",
          "name": "stderr",
          "text": [
            "Loss=0.7729 Batch_id=390 Accuracy=75.22: 100%|██████████| 391/391 [00:23<00:00, 16.38it/s]\n"
          ]
        },
        {
          "output_type": "stream",
          "name": "stdout",
          "text": [
            "\n",
            "Test set: Average loss: 0.5577, Accuracy: 8074/10000 (80.74%)\n",
            "\n",
            "EPOCH: 11\n"
          ]
        },
        {
          "output_type": "stream",
          "name": "stderr",
          "text": [
            "Loss=0.6795 Batch_id=390 Accuracy=75.51: 100%|██████████| 391/391 [00:24<00:00, 16.29it/s]\n"
          ]
        },
        {
          "output_type": "stream",
          "name": "stdout",
          "text": [
            "\n",
            "Test set: Average loss: 0.5381, Accuracy: 8175/10000 (81.75%)\n",
            "\n",
            "EPOCH: 12\n"
          ]
        },
        {
          "output_type": "stream",
          "name": "stderr",
          "text": [
            "Loss=0.5145 Batch_id=390 Accuracy=76.53: 100%|██████████| 391/391 [00:28<00:00, 13.72it/s]\n"
          ]
        },
        {
          "output_type": "stream",
          "name": "stdout",
          "text": [
            "\n",
            "Test set: Average loss: 0.5048, Accuracy: 8274/10000 (82.74%)\n",
            "\n",
            "EPOCH: 13\n"
          ]
        },
        {
          "output_type": "stream",
          "name": "stderr",
          "text": [
            "Loss=0.6413 Batch_id=390 Accuracy=76.94: 100%|██████████| 391/391 [00:32<00:00, 11.92it/s]\n"
          ]
        },
        {
          "output_type": "stream",
          "name": "stdout",
          "text": [
            "\n",
            "Test set: Average loss: 0.4947, Accuracy: 8317/10000 (83.17%)\n",
            "\n",
            "EPOCH: 14\n"
          ]
        },
        {
          "output_type": "stream",
          "name": "stderr",
          "text": [
            "Loss=0.7395 Batch_id=390 Accuracy=77.14: 100%|██████████| 391/391 [00:32<00:00, 11.94it/s]\n"
          ]
        },
        {
          "output_type": "stream",
          "name": "stdout",
          "text": [
            "\n",
            "Test set: Average loss: 0.5070, Accuracy: 8292/10000 (82.92%)\n",
            "\n",
            "EPOCH: 15\n"
          ]
        },
        {
          "output_type": "stream",
          "name": "stderr",
          "text": [
            "Loss=0.5546 Batch_id=390 Accuracy=77.17: 100%|██████████| 391/391 [00:31<00:00, 12.59it/s]\n"
          ]
        },
        {
          "output_type": "stream",
          "name": "stdout",
          "text": [
            "\n",
            "Test set: Average loss: 0.5098, Accuracy: 8262/10000 (82.62%)\n",
            "\n",
            "EPOCH: 16\n"
          ]
        },
        {
          "output_type": "stream",
          "name": "stderr",
          "text": [
            "Loss=0.4193 Batch_id=390 Accuracy=77.95: 100%|██████████| 391/391 [00:22<00:00, 17.01it/s]\n"
          ]
        },
        {
          "output_type": "stream",
          "name": "stdout",
          "text": [
            "\n",
            "Test set: Average loss: 0.4657, Accuracy: 8407/10000 (84.07%)\n",
            "\n",
            "EPOCH: 17\n"
          ]
        },
        {
          "output_type": "stream",
          "name": "stderr",
          "text": [
            "Loss=0.7036 Batch_id=390 Accuracy=78.32: 100%|██████████| 391/391 [00:22<00:00, 17.58it/s]\n"
          ]
        },
        {
          "output_type": "stream",
          "name": "stdout",
          "text": [
            "\n",
            "Test set: Average loss: 0.4656, Accuracy: 8429/10000 (84.29%)\n",
            "\n",
            "EPOCH: 18\n"
          ]
        },
        {
          "output_type": "stream",
          "name": "stderr",
          "text": [
            "Loss=0.7815 Batch_id=390 Accuracy=78.51: 100%|██████████| 391/391 [00:22<00:00, 17.72it/s]\n"
          ]
        },
        {
          "output_type": "stream",
          "name": "stdout",
          "text": [
            "\n",
            "Test set: Average loss: 0.4539, Accuracy: 8462/10000 (84.62%)\n",
            "\n",
            "EPOCH: 19\n"
          ]
        },
        {
          "output_type": "stream",
          "name": "stderr",
          "text": [
            "Loss=0.5875 Batch_id=390 Accuracy=78.50: 100%|██████████| 391/391 [00:23<00:00, 16.74it/s]\n"
          ]
        },
        {
          "output_type": "stream",
          "name": "stdout",
          "text": [
            "\n",
            "Test set: Average loss: 0.4534, Accuracy: 8456/10000 (84.56%)\n",
            "\n",
            "EPOCH: 20\n"
          ]
        },
        {
          "output_type": "stream",
          "name": "stderr",
          "text": [
            "Loss=0.4830 Batch_id=390 Accuracy=78.87: 100%|██████████| 391/391 [00:21<00:00, 17.90it/s]\n"
          ]
        },
        {
          "output_type": "stream",
          "name": "stdout",
          "text": [
            "\n",
            "Test set: Average loss: 0.4419, Accuracy: 8499/10000 (84.99%)\n",
            "\n",
            "EPOCH: 21\n"
          ]
        },
        {
          "output_type": "stream",
          "name": "stderr",
          "text": [
            "Loss=0.6374 Batch_id=390 Accuracy=79.12: 100%|██████████| 391/391 [00:22<00:00, 17.37it/s]\n"
          ]
        },
        {
          "output_type": "stream",
          "name": "stdout",
          "text": [
            "\n",
            "Test set: Average loss: 0.4380, Accuracy: 8530/10000 (85.30%)\n",
            "\n",
            "\n",
            "================================================================================\n",
            "🎉 TARGET REACHED! Test Accuracy: 85.30% >= 85.0%\n",
            "================================================================================\n",
            "\n"
          ]
        }
      ]
    },
    {
      "cell_type": "code",
      "source": [],
      "metadata": {
        "id": "HPXGl3pWczgA"
      },
      "execution_count": null,
      "outputs": []
    }
  ]
}