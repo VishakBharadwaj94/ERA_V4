{
  "nbformat": 4,
  "nbformat_minor": 0,
  "metadata": {
    "colab": {
      "provenance": [],
      "gpuType": "T4"
    },
    "kernelspec": {
      "name": "python3",
      "display_name": "Python 3"
    },
    "language_info": {
      "name": "python"
    },
    "accelerator": "GPU"
  },
  "cells": [
    {
      "cell_type": "markdown",
      "source": [
        "## Try 1 : No Regularisation ( ie no dropout or augmentation)"
      ],
      "metadata": {
        "id": "WUktJ1MwTjQq"
      }
    },
    {
      "cell_type": "code",
      "source": [
        "# -*- coding: utf-8 -*-\n",
        "\"\"\"Clean MNIST CNN - 99.4% accuracy with <15k parameters\n",
        "Simple, effective architecture with healthy training pattern\n",
        "\"\"\"\n",
        "\n",
        "from __future__ import print_function\n",
        "import torch\n",
        "import torch.nn as nn\n",
        "import torch.nn.functional as F\n",
        "import torch.optim as optim\n",
        "from torchvision import datasets, transforms\n",
        "from tqdm import tqdm\n",
        "\n",
        "class CleanNet(nn.Module):\n",
        "    def __init__(self):\n",
        "        super(CleanNet, self).__init__()\n",
        "\n",
        "        # Block 1: Initial feature extraction\n",
        "        self.conv1 = nn.Conv2d(1, 8, 3, padding=1)      # 28x28x1 -> 28x28x8, RF: 3x3\n",
        "        self.bn1 = nn.BatchNorm2d(8)\n",
        "\n",
        "        self.conv2 = nn.Conv2d(8, 12, 3, padding=1)     # 28x28x8 -> 28x28x12, RF: 5x5\n",
        "        self.bn2 = nn.BatchNorm2d(12)\n",
        "        self.pool1 = nn.MaxPool2d(2, 2)                 # 28x28x12 -> 14x14x12\n",
        "        # self.dropout1 = nn.Dropout(0.02)               # Removed dropout\n",
        "\n",
        "        # Block 2: Mid-level features\n",
        "        self.conv3 = nn.Conv2d(12, 14, 3, padding=1)    # 14x14x12 -> 14x14x14, RF: 10x10\n",
        "        self.bn3 = nn.BatchNorm2d(14)\n",
        "\n",
        "        self.conv4 = nn.Conv2d(14, 16, 3, padding=1)    # 14x14x14 -> 14x14x16, RF: 14x14\n",
        "        self.bn4 = nn.BatchNorm2d(16)\n",
        "        self.pool2 = nn.MaxPool2d(2, 2)                 # 14x14x16 -> 7x7x16\n",
        "        # self.dropout2 = nn.Dropout(0.02)               # Removed dropout\n",
        "\n",
        "        # Block 3: High-level features\n",
        "        self.conv5 = nn.Conv2d(16, 20, 3)               # 7x7x16 -> 5x5x20, RF: 20x20\n",
        "        self.bn5 = nn.BatchNorm2d(20)\n",
        "\n",
        "        self.conv6 = nn.Conv2d(20, 24, 3)               # 5x5x20 -> 3x3x24, RF: 24x24\n",
        "        self.bn6 = nn.BatchNorm2d(24)\n",
        "\n",
        "        # Output block with Global Average Pooling\n",
        "        self.conv7 = nn.Conv2d(24, 10, 3)               # 3x3x24 -> 1x1x10, RF: 28x28\n",
        "        self.gap = nn.AdaptiveAvgPool2d(1)\n",
        "\n",
        "    def forward(self, x):\n",
        "        # Block 1\n",
        "        x = F.relu(self.bn1(self.conv1(x)))\n",
        "        x = F.relu(self.bn2(self.conv2(x)))\n",
        "        x = self.pool1(x)\n",
        "\n",
        "        # Block 2\n",
        "        x = F.relu(self.bn3(self.conv3(x)))\n",
        "        x = F.relu(self.bn4(self.conv4(x)))\n",
        "        x = self.pool2(x)\n",
        "\n",
        "        # Block 3\n",
        "        x = F.relu(self.bn5(self.conv5(x)))\n",
        "        x = F.relu(self.bn6(self.conv6(x)))\n",
        "\n",
        "        # Output\n",
        "        x = self.conv7(x)\n",
        "        x = self.gap(x)\n",
        "        x = x.view(-1, 10)\n",
        "\n",
        "        return F.log_softmax(x, dim=1)\n",
        "\n",
        "# Setup\n",
        "try:\n",
        "    from torchsummary import summary\n",
        "except ImportError:\n",
        "    import subprocess\n",
        "    import sys\n",
        "    subprocess.check_call([sys.executable, \"-m\", \"pip\", \"install\", \"torchsummary\"])\n",
        "    from torchsummary import summary\n",
        "\n",
        "use_cuda = torch.cuda.is_available()\n",
        "device = torch.device(\"cuda\" if use_cuda else \"cpu\")\n",
        "print(f\"Using device: {device}\")\n",
        "\n",
        "# Create and analyze model\n",
        "model = CleanNet().to(device)\n",
        "summary(model, input_size=(1, 28, 28))\n",
        "\n",
        "total_params = sum(p.numel() for p in model.parameters())\n",
        "print(f\"\\nTotal Parameters: {total_params:,}\")\n",
        "\n",
        "# Data preparation - lighter augmentation for healthy train/test balance\n",
        "torch.manual_seed(42)\n",
        "batch_size = 128\n",
        "\n",
        "# No data augmentation - clean training for maximum performance\n",
        "transform_train = transforms.Compose([\n",
        "    transforms.ToTensor(),\n",
        "    transforms.Normalize((0.1307,), (0.3081,))\n",
        "])\n",
        "\n",
        "transform_test = transforms.Compose([\n",
        "    transforms.ToTensor(),\n",
        "    transforms.Normalize((0.1307,), (0.3081,))\n",
        "])\n",
        "\n",
        "# Data preparation with 50k/10k split as specified\n",
        "torch.manual_seed(42)\n",
        "batch_size = 128\n",
        "\n",
        "# Load full training dataset\n",
        "full_train_dataset = datasets.MNIST('../data', train=True, download=True, transform=transform_train)\n",
        "\n",
        "# Create 50k/10k split from the 60k training data\n",
        "train_size = 50000\n",
        "val_size = 10000\n",
        "\n",
        "train_dataset, val_dataset = torch.utils.data.random_split(\n",
        "    full_train_dataset, [train_size, val_size],\n",
        "    generator=torch.Generator().manual_seed(42)\n",
        ")\n",
        "\n",
        "# Update validation dataset transform to use test transform\n",
        "val_dataset.dataset = datasets.MNIST('../data', train=True, download=False, transform=transform_test)\n",
        "val_indices = val_dataset.indices\n",
        "\n",
        "# Create a proper validation dataset\n",
        "val_dataset = torch.utils.data.Subset(\n",
        "    datasets.MNIST('../data', train=True, download=False, transform=transform_test),\n",
        "    val_indices\n",
        ")\n",
        "\n",
        "kwargs = {'num_workers': 2, 'pin_memory': True} if use_cuda else {}\n",
        "\n",
        "train_loader = torch.utils.data.DataLoader(\n",
        "    train_dataset, batch_size=batch_size, shuffle=True, **kwargs)\n",
        "\n",
        "# This is now our validation set (what we call \"test\" in the assignment)\n",
        "test_loader = torch.utils.data.DataLoader(\n",
        "    val_dataset, batch_size=batch_size, shuffle=False, **kwargs)\n",
        "\n",
        "print(f\"Dataset split: {len(train_dataset)} train, {len(val_dataset)} validation\")\n",
        "\n",
        "# Training function\n",
        "def train(model, device, train_loader, optimizer, epoch):\n",
        "    model.train()\n",
        "    pbar = tqdm(train_loader)\n",
        "    correct = 0\n",
        "    processed = 0\n",
        "\n",
        "    for batch_idx, (data, target) in enumerate(pbar):\n",
        "        data, target = data.to(device), target.to(device)\n",
        "        optimizer.zero_grad()\n",
        "\n",
        "        output = model(data)\n",
        "        loss = F.nll_loss(output, target)\n",
        "        loss.backward()\n",
        "        optimizer.step()\n",
        "\n",
        "        # Calculate training accuracy\n",
        "        pred = output.argmax(dim=1, keepdim=True)\n",
        "        correct += pred.eq(target.view_as(pred)).sum().item()\n",
        "        processed += len(data)\n",
        "\n",
        "        pbar.set_description(desc=f'Epoch {epoch}: Loss={loss.item():.6f} Batch_id={batch_idx} Accuracy={100*correct/processed:.2f}%')\n",
        "\n",
        "    return 100. * correct / processed\n",
        "\n",
        "# Testing function\n",
        "def test(model, device, test_loader):\n",
        "    model.eval()\n",
        "    test_loss = 0\n",
        "    correct = 0\n",
        "\n",
        "    with torch.no_grad():\n",
        "        for data, target in test_loader:\n",
        "            data, target = data.to(device), target.to(device)\n",
        "            output = model(data)\n",
        "            test_loss += F.nll_loss(output, target, reduction='sum').item()\n",
        "            pred = output.argmax(dim=1, keepdim=True)\n",
        "            correct += pred.eq(target.view_as(pred)).sum().item()\n",
        "\n",
        "    test_loss /= len(test_loader.dataset)\n",
        "    test_accuracy = 100. * correct / len(test_loader.dataset)\n",
        "\n",
        "    print(f'\\nValidation set: Average loss: {test_loss:.4f}, Accuracy: {correct}/{len(test_loader.dataset)} ({test_accuracy:.2f}%)')\n",
        "    return test_accuracy\n",
        "\n",
        "# Initialize model, optimizer and simple scheduler\n",
        "model = CleanNet().to(device)\n",
        "optimizer = optim.SGD(model.parameters(), lr=0.1, momentum=0.9, weight_decay=1e-4)\n",
        "\n",
        "# Simple StepLR - drops learning rate at epoch 6\n",
        "scheduler = optim.lr_scheduler.StepLR(optimizer, step_size=6, gamma=0.1)\n",
        "\n",
        "# Training loop\n",
        "print(\"Starting training...\")\n",
        "best_accuracy = 0\n",
        "target_accuracy = 99.4\n",
        "\n",
        "# Training loop with metrics collection\n",
        "print(\"Starting training...\")\n",
        "best_accuracy = 0\n",
        "target_accuracy = 99.4\n",
        "train_accuracies = []\n",
        "val_accuracies = []\n",
        "train_losses = []\n",
        "\n",
        "for epoch in range(1, 16):\n",
        "    current_lr = optimizer.param_groups[0]['lr']\n",
        "    print(f\"\\nEpoch {epoch}, Learning Rate: {current_lr:.6f}\")\n",
        "\n",
        "    train_acc = train(model, device, train_loader, optimizer, epoch)\n",
        "    val_acc = test(model, device, test_loader)\n",
        "\n",
        "    # Store metrics for plotting\n",
        "    train_accuracies.append(train_acc)\n",
        "    val_accuracies.append(val_acc)\n",
        "\n",
        "    scheduler.step()\n",
        "\n",
        "    if val_acc > best_accuracy:\n",
        "        best_accuracy = val_acc\n",
        "        torch.save(model.state_dict(), 'best_clean_model.pth')\n",
        "\n",
        "    if val_acc >= target_accuracy:\n",
        "        print(f\"\\n🎉 Target accuracy of {target_accuracy}% achieved in epoch {epoch}!\")\n",
        "        break\n",
        "\n",
        "print(f\"\\n✅ Training completed!\")\n",
        "print(f\"📊 Best validation accuracy: {best_accuracy:.2f}%\")\n",
        "print(f\"🔢 Total parameters used: {total_params:,}\")\n",
        "\n",
        "# Plot training progress\n",
        "try:\n",
        "    import matplotlib.pyplot as plt\n",
        "\n",
        "    plt.figure(figsize=(10, 6))\n",
        "    epochs_range = range(1, len(train_accuracies) + 1)\n",
        "\n",
        "    plt.plot(epochs_range, train_accuracies, 'b-o', label='Training Accuracy', linewidth=2, markersize=4)\n",
        "    plt.plot(epochs_range, val_accuracies, 'r-o', label='Validation Accuracy', linewidth=2, markersize=4)\n",
        "    plt.axhline(y=target_accuracy, color='g', linestyle='--', alpha=0.7, label=f'Target ({target_accuracy}%)')\n",
        "\n",
        "    plt.xlabel('Epoch')\n",
        "    plt.ylabel('Accuracy (%)')\n",
        "    plt.title('Training Progress - Accuracy vs Epoch')\n",
        "    plt.legend()\n",
        "    plt.grid(True, alpha=0.3)\n",
        "    plt.ylim(95, 100)\n",
        "\n",
        "    # Add final accuracy annotations\n",
        "    plt.annotate(f'Final Train: {train_accuracies[-1]:.2f}%',\n",
        "                xy=(len(train_accuracies), train_accuracies[-1]),\n",
        "                xytext=(len(train_accuracies)-1, train_accuracies[-1]+0.1),\n",
        "                fontsize=10, ha='right')\n",
        "    plt.annotate(f'Final Val: {val_accuracies[-1]:.2f}%',\n",
        "                xy=(len(val_accuracies), val_accuracies[-1]),\n",
        "                xytext=(len(val_accuracies)-1, val_accuracies[-1]-0.1),\n",
        "                fontsize=10, ha='right')\n",
        "\n",
        "    plt.tight_layout()\n",
        "    plt.show()\n",
        "\n",
        "except ImportError:\n",
        "    print(\"Matplotlib not available for plotting\")\n",
        "    for i, (train_acc, val_acc) in enumerate(zip(train_accuracies, val_accuracies), 1):\n",
        "        print(f\"Epoch {i}: Train={train_acc:.2f}%, Val={val_acc:.2f}%\")"
      ],
      "metadata": {
        "colab": {
          "base_uri": "https://localhost:8080/",
          "height": 1000
        },
        "id": "rQCGeVnyOSYy",
        "outputId": "966257f7-1a61-4dc3-d836-d5bce86fa8e0"
      },
      "execution_count": 22,
      "outputs": [
        {
          "output_type": "stream",
          "name": "stdout",
          "text": [
            "Using device: cuda\n",
            "----------------------------------------------------------------\n",
            "        Layer (type)               Output Shape         Param #\n",
            "================================================================\n",
            "            Conv2d-1            [-1, 8, 28, 28]              80\n",
            "       BatchNorm2d-2            [-1, 8, 28, 28]              16\n",
            "            Conv2d-3           [-1, 12, 28, 28]             876\n",
            "       BatchNorm2d-4           [-1, 12, 28, 28]              24\n",
            "         MaxPool2d-5           [-1, 12, 14, 14]               0\n",
            "            Conv2d-6           [-1, 14, 14, 14]           1,526\n",
            "       BatchNorm2d-7           [-1, 14, 14, 14]              28\n",
            "            Conv2d-8           [-1, 16, 14, 14]           2,032\n",
            "       BatchNorm2d-9           [-1, 16, 14, 14]              32\n",
            "        MaxPool2d-10             [-1, 16, 7, 7]               0\n",
            "           Conv2d-11             [-1, 20, 5, 5]           2,900\n",
            "      BatchNorm2d-12             [-1, 20, 5, 5]              40\n",
            "           Conv2d-13             [-1, 24, 3, 3]           4,344\n",
            "      BatchNorm2d-14             [-1, 24, 3, 3]              48\n",
            "           Conv2d-15             [-1, 10, 1, 1]           2,170\n",
            "AdaptiveAvgPool2d-16             [-1, 10, 1, 1]               0\n",
            "================================================================\n",
            "Total params: 14,116\n",
            "Trainable params: 14,116\n",
            "Non-trainable params: 0\n",
            "----------------------------------------------------------------\n",
            "Input size (MB): 0.00\n",
            "Forward/backward pass size (MB): 0.36\n",
            "Params size (MB): 0.05\n",
            "Estimated Total Size (MB): 0.42\n",
            "----------------------------------------------------------------\n",
            "\n",
            "Total Parameters: 14,116\n",
            "Dataset split: 50000 train, 10000 validation\n",
            "Starting training...\n",
            "Starting training...\n",
            "\n",
            "Epoch 1, Learning Rate: 0.100000\n"
          ]
        },
        {
          "output_type": "stream",
          "name": "stderr",
          "text": [
            "Epoch 1: Loss=0.120114 Batch_id=390 Accuracy=96.34%: 100%|██████████| 391/391 [00:13<00:00, 29.40it/s]\n"
          ]
        },
        {
          "output_type": "stream",
          "name": "stdout",
          "text": [
            "\n",
            "Validation set: Average loss: 0.0722, Accuracy: 9776/10000 (97.76%)\n",
            "\n",
            "Epoch 2, Learning Rate: 0.100000\n"
          ]
        },
        {
          "output_type": "stream",
          "name": "stderr",
          "text": [
            "Epoch 2: Loss=0.055325 Batch_id=390 Accuracy=98.75%: 100%|██████████| 391/391 [00:11<00:00, 34.70it/s]\n"
          ]
        },
        {
          "output_type": "stream",
          "name": "stdout",
          "text": [
            "\n",
            "Validation set: Average loss: 0.0361, Accuracy: 9888/10000 (98.88%)\n",
            "\n",
            "Epoch 3, Learning Rate: 0.100000\n"
          ]
        },
        {
          "output_type": "stream",
          "name": "stderr",
          "text": [
            "Epoch 3: Loss=0.003193 Batch_id=390 Accuracy=99.10%: 100%|██████████| 391/391 [00:11<00:00, 34.42it/s]\n"
          ]
        },
        {
          "output_type": "stream",
          "name": "stdout",
          "text": [
            "\n",
            "Validation set: Average loss: 0.0342, Accuracy: 9897/10000 (98.97%)\n",
            "\n",
            "Epoch 4, Learning Rate: 0.100000\n"
          ]
        },
        {
          "output_type": "stream",
          "name": "stderr",
          "text": [
            "Epoch 4: Loss=0.039070 Batch_id=390 Accuracy=99.20%: 100%|██████████| 391/391 [00:11<00:00, 34.79it/s]\n"
          ]
        },
        {
          "output_type": "stream",
          "name": "stdout",
          "text": [
            "\n",
            "Validation set: Average loss: 0.0313, Accuracy: 9902/10000 (99.02%)\n",
            "\n",
            "Epoch 5, Learning Rate: 0.100000\n"
          ]
        },
        {
          "output_type": "stream",
          "name": "stderr",
          "text": [
            "Epoch 5: Loss=0.027712 Batch_id=390 Accuracy=99.35%: 100%|██████████| 391/391 [00:11<00:00, 34.35it/s]\n"
          ]
        },
        {
          "output_type": "stream",
          "name": "stdout",
          "text": [
            "\n",
            "Validation set: Average loss: 0.0374, Accuracy: 9879/10000 (98.79%)\n",
            "\n",
            "Epoch 6, Learning Rate: 0.100000\n"
          ]
        },
        {
          "output_type": "stream",
          "name": "stderr",
          "text": [
            "Epoch 6: Loss=0.025423 Batch_id=390 Accuracy=99.42%: 100%|██████████| 391/391 [00:11<00:00, 34.46it/s]\n"
          ]
        },
        {
          "output_type": "stream",
          "name": "stdout",
          "text": [
            "\n",
            "Validation set: Average loss: 0.0315, Accuracy: 9902/10000 (99.02%)\n",
            "\n",
            "Epoch 7, Learning Rate: 0.010000\n"
          ]
        },
        {
          "output_type": "stream",
          "name": "stderr",
          "text": [
            "Epoch 7: Loss=0.007183 Batch_id=390 Accuracy=99.77%: 100%|██████████| 391/391 [00:11<00:00, 34.20it/s]\n"
          ]
        },
        {
          "output_type": "stream",
          "name": "stdout",
          "text": [
            "\n",
            "Validation set: Average loss: 0.0222, Accuracy: 9937/10000 (99.37%)\n",
            "\n",
            "Epoch 8, Learning Rate: 0.010000\n"
          ]
        },
        {
          "output_type": "stream",
          "name": "stderr",
          "text": [
            "Epoch 8: Loss=0.015771 Batch_id=390 Accuracy=99.85%: 100%|██████████| 391/391 [00:11<00:00, 34.04it/s]\n"
          ]
        },
        {
          "output_type": "stream",
          "name": "stdout",
          "text": [
            "\n",
            "Validation set: Average loss: 0.0214, Accuracy: 9941/10000 (99.41%)\n",
            "\n",
            "🎉 Target accuracy of 99.4% achieved in epoch 8!\n",
            "\n",
            "✅ Training completed!\n",
            "📊 Best validation accuracy: 99.41%\n",
            "🔢 Total parameters used: 14,116\n"
          ]
        },
        {
          "output_type": "display_data",
          "data": {
            "text/plain": [
              "<Figure size 1000x600 with 1 Axes>"
            ],
            "image/png": "[encoded data removed]"
          },
          "metadata": {}
        }
      ]
    },
    {
      "cell_type": "markdown",
      "source": [
        "## Try 2 : With Regularisation"
      ],
      "metadata": {
        "id": "Yv8Lx3cITywz"
      }
    },
    {
      "cell_type": "code",
      "source": [
        "# -*- coding: utf-8 -*-\n",
        "\"\"\"Clean MNIST CNN - 99.4% accuracy with <15k parameters\n",
        "Simple, effective architecture with healthy training pattern\n",
        "\"\"\"\n",
        "\n",
        "from __future__ import print_function\n",
        "import torch\n",
        "import torch.nn as nn\n",
        "import torch.nn.functional as F\n",
        "import torch.optim as optim\n",
        "from torchvision import datasets, transforms\n",
        "from tqdm import tqdm\n",
        "\n",
        "class CleanNet(nn.Module):\n",
        "    def __init__(self):\n",
        "        super(CleanNet, self).__init__()\n",
        "\n",
        "        # Block 1: Initial feature extraction\n",
        "        self.conv1 = nn.Conv2d(1, 8, 3, padding=1)      # 28x28x1 -> 28x28x8, RF: 3x3\n",
        "        self.bn1 = nn.BatchNorm2d(8)\n",
        "\n",
        "        self.conv2 = nn.Conv2d(8, 14, 3, padding=1)     # 28x28x8 -> 28x28x14, RF: 5x5\n",
        "        self.bn2 = nn.BatchNorm2d(14)\n",
        "        self.pool1 = nn.MaxPool2d(2, 2)                 # 28x28x14 -> 14x14x14\n",
        "        self.dropout1 = nn.Dropout(0.05)                # Keep regularization\n",
        "\n",
        "        # Block 2: Mid-level features\n",
        "        self.conv3 = nn.Conv2d(14, 16, 3, padding=1)    # 14x14x14 -> 14x14x16, RF: 10x10\n",
        "        self.bn3 = nn.BatchNorm2d(16)\n",
        "\n",
        "        self.conv4 = nn.Conv2d(16, 20, 3, padding=1)    # 14x14x16 -> 14x14x20, RF: 14x14\n",
        "        self.bn4 = nn.BatchNorm2d(20)\n",
        "        self.pool2 = nn.MaxPool2d(2, 2)                 # 14x14x20 -> 7x7x20\n",
        "        self.dropout2 = nn.Dropout(0.05)                # Keep regularization\n",
        "\n",
        "        # Block 3: High-level features\n",
        "        self.conv5 = nn.Conv2d(20, 24, 3)               # 7x7x20 -> 5x5x24, RF: 20x20\n",
        "        self.bn5 = nn.BatchNorm2d(24)\n",
        "\n",
        "        self.conv6 = nn.Conv2d(24, 28, 3)               # 5x5x24 -> 3x3x28, RF: 24x24\n",
        "        self.bn6 = nn.BatchNorm2d(28)\n",
        "\n",
        "        # Output block with Global Average Pooling\n",
        "        self.conv7 = nn.Conv2d(28, 10, 3)               # 3x3x28 -> 1x1x10, RF: 28x28\n",
        "        self.gap = nn.AdaptiveAvgPool2d(1)\n",
        "\n",
        "    def forward(self, x):\n",
        "        # Block 1\n",
        "        x = F.relu(self.bn1(self.conv1(x)))\n",
        "        x = F.relu(self.bn2(self.conv2(x)))\n",
        "        x = self.dropout1(self.pool1(x))\n",
        "\n",
        "        # Block 2\n",
        "        x = F.relu(self.bn3(self.conv3(x)))\n",
        "        x = F.relu(self.bn4(self.conv4(x)))\n",
        "        x = self.dropout2(self.pool2(x))\n",
        "\n",
        "        # Block 3\n",
        "        x = F.relu(self.bn5(self.conv5(x)))\n",
        "        x = F.relu(self.bn6(self.conv6(x)))\n",
        "\n",
        "        # Output\n",
        "        x = self.conv7(x)\n",
        "        x = self.gap(x)\n",
        "        x = x.view(-1, 10)\n",
        "\n",
        "        return F.log_softmax(x, dim=1)\n",
        "\n",
        "# Setup\n",
        "try:\n",
        "    from torchsummary import summary\n",
        "except ImportError:\n",
        "    import subprocess\n",
        "    import sys\n",
        "    subprocess.check_call([sys.executable, \"-m\", \"pip\", \"install\", \"torchsummary\"])\n",
        "    from torchsummary import summary\n",
        "\n",
        "use_cuda = torch.cuda.is_available()\n",
        "device = torch.device(\"cuda\" if use_cuda else \"cpu\")\n",
        "print(f\"Using device: {device}\")\n",
        "\n",
        "# Create and analyze model\n",
        "model = CleanNet().to(device)\n",
        "summary(model, input_size=(1, 28, 28))\n",
        "\n",
        "total_params = sum(p.numel() for p in model.parameters())\n",
        "print(f\"\\nTotal Parameters: {total_params:,}\")\n",
        "\n",
        "# Data preparation - lighter augmentation for healthy train/test balance\n",
        "torch.manual_seed(42)\n",
        "batch_size = 128\n",
        "\n",
        "# Add data augmentation back since we have more capacity\n",
        "transform_train = transforms.Compose([\n",
        "    transforms.RandomRotation((-5.0, 5.0), fill=(0,)),  # Restore augmentation\n",
        "    transforms.ToTensor(),\n",
        "    transforms.Normalize((0.1307,), (0.3081,))\n",
        "])\n",
        "\n",
        "transform_test = transforms.Compose([\n",
        "    transforms.ToTensor(),\n",
        "    transforms.Normalize((0.1307,), (0.3081,))\n",
        "])\n",
        "\n",
        "# Data preparation with 50k/10k split as specified\n",
        "torch.manual_seed(42)\n",
        "batch_size = 128\n",
        "\n",
        "# Load full training dataset\n",
        "full_train_dataset = datasets.MNIST('../data', train=True, download=True, transform=transform_train)\n",
        "\n",
        "# Create 50k/10k split from the 60k training data\n",
        "train_size = 50000\n",
        "val_size = 10000\n",
        "\n",
        "train_dataset, val_dataset = torch.utils.data.random_split(\n",
        "    full_train_dataset, [train_size, val_size],\n",
        "    generator=torch.Generator().manual_seed(42)\n",
        ")\n",
        "\n",
        "# Update validation dataset transform to use test transform\n",
        "val_dataset.dataset = datasets.MNIST('../data', train=True, download=False, transform=transform_test)\n",
        "val_indices = val_dataset.indices\n",
        "\n",
        "# Create a proper validation dataset\n",
        "val_dataset = torch.utils.data.Subset(\n",
        "    datasets.MNIST('../data', train=True, download=False, transform=transform_test),\n",
        "    val_indices\n",
        ")\n",
        "\n",
        "kwargs = {'num_workers': 2, 'pin_memory': True} if use_cuda else {}\n",
        "\n",
        "train_loader = torch.utils.data.DataLoader(\n",
        "    train_dataset, batch_size=batch_size, shuffle=True, **kwargs)\n",
        "\n",
        "# This is now our validation set (what we call \"test\" in the assignment)\n",
        "test_loader = torch.utils.data.DataLoader(\n",
        "    val_dataset, batch_size=batch_size, shuffle=False, **kwargs)\n",
        "\n",
        "print(f\"Dataset split: {len(train_dataset)} train, {len(val_dataset)} validation\")\n",
        "\n",
        "# Training function\n",
        "def train(model, device, train_loader, optimizer, epoch):\n",
        "    model.train()\n",
        "    pbar = tqdm(train_loader)\n",
        "    correct = 0\n",
        "    processed = 0\n",
        "\n",
        "    for batch_idx, (data, target) in enumerate(pbar):\n",
        "        data, target = data.to(device), target.to(device)\n",
        "        optimizer.zero_grad()\n",
        "\n",
        "        output = model(data)\n",
        "        loss = F.nll_loss(output, target)\n",
        "        loss.backward()\n",
        "        optimizer.step()\n",
        "\n",
        "        # Calculate training accuracy\n",
        "        pred = output.argmax(dim=1, keepdim=True)\n",
        "        correct += pred.eq(target.view_as(pred)).sum().item()\n",
        "        processed += len(data)\n",
        "\n",
        "        pbar.set_description(desc=f'Epoch {epoch}: Loss={loss.item():.6f} Batch_id={batch_idx} Accuracy={100*correct/processed:.2f}%')\n",
        "\n",
        "    return 100. * correct / processed\n",
        "\n",
        "# Testing function\n",
        "def test(model, device, test_loader):\n",
        "    model.eval()\n",
        "    test_loss = 0\n",
        "    correct = 0\n",
        "\n",
        "    with torch.no_grad():\n",
        "        for data, target in test_loader:\n",
        "            data, target = data.to(device), target.to(device)\n",
        "            output = model(data)\n",
        "            test_loss += F.nll_loss(output, target, reduction='sum').item()\n",
        "            pred = output.argmax(dim=1, keepdim=True)\n",
        "            correct += pred.eq(target.view_as(pred)).sum().item()\n",
        "\n",
        "    test_loss /= len(test_loader.dataset)\n",
        "    test_accuracy = 100. * correct / len(test_loader.dataset)\n",
        "\n",
        "    print(f'\\nValidation set: Average loss: {test_loss:.4f}, Accuracy: {correct}/{len(test_loader.dataset)} ({test_accuracy:.2f}%)')\n",
        "    return test_accuracy\n",
        "\n",
        "# Initialize model, optimizer and simple scheduler\n",
        "model = CleanNet().to(device)\n",
        "optimizer = optim.SGD(model.parameters(), lr=0.1, momentum=0.9, weight_decay=1e-4)\n",
        "\n",
        "# Simple StepLR - drops learning rate at epoch 6\n",
        "scheduler = optim.lr_scheduler.StepLR(optimizer, step_size=6, gamma=0.1)\n",
        "\n",
        "# Training loop\n",
        "print(\"Starting training...\")\n",
        "best_accuracy = 0\n",
        "target_accuracy = 99.4\n",
        "\n",
        "# Training loop with metrics collection\n",
        "print(\"Starting training...\")\n",
        "best_accuracy = 0\n",
        "target_accuracy = 99.4\n",
        "train_accuracies = []\n",
        "val_accuracies = []\n",
        "train_losses = []\n",
        "\n",
        "for epoch in range(1, 16):\n",
        "    current_lr = optimizer.param_groups[0]['lr']\n",
        "    print(f\"\\nEpoch {epoch}, Learning Rate: {current_lr:.6f}\")\n",
        "\n",
        "    train_acc = train(model, device, train_loader, optimizer, epoch)\n",
        "    val_acc = test(model, device, test_loader)\n",
        "\n",
        "    # Store metrics for plotting\n",
        "    train_accuracies.append(train_acc)\n",
        "    val_accuracies.append(val_acc)\n",
        "\n",
        "    scheduler.step()\n",
        "\n",
        "    if val_acc > best_accuracy:\n",
        "        best_accuracy = val_acc\n",
        "        torch.save(model.state_dict(), 'best_clean_model.pth')\n",
        "\n",
        "    if val_acc >= target_accuracy:\n",
        "        print(f\"\\n🎉 Target accuracy of {target_accuracy}% achieved in epoch {epoch}!\")\n",
        "        break\n",
        "\n",
        "print(f\"\\n✅ Training completed!\")\n",
        "print(f\"📊 Best validation accuracy: {best_accuracy:.2f}%\")\n",
        "print(f\"🔢 Total parameters used: {total_params:,}\")\n",
        "\n",
        "# Plot training progress\n",
        "try:\n",
        "    import matplotlib.pyplot as plt\n",
        "\n",
        "    plt.figure(figsize=(10, 6))\n",
        "    epochs_range = range(1, len(train_accuracies) + 1)\n",
        "\n",
        "    plt.plot(epochs_range, train_accuracies, 'b-o', label='Training Accuracy', linewidth=2, markersize=4)\n",
        "    plt.plot(epochs_range, val_accuracies, 'r-o', label='Validation Accuracy', linewidth=2, markersize=4)\n",
        "    plt.axhline(y=target_accuracy, color='g', linestyle='--', alpha=0.7, label=f'Target ({target_accuracy}%)')\n",
        "\n",
        "    plt.xlabel('Epoch')\n",
        "    plt.ylabel('Accuracy (%)')\n",
        "    plt.title('Training Progress - Accuracy vs Epoch')\n",
        "    plt.legend()\n",
        "    plt.grid(True, alpha=0.3)\n",
        "    plt.ylim(95, 100)\n",
        "\n",
        "    # Add final accuracy annotations\n",
        "    plt.annotate(f'Final Train: {train_accuracies[-1]:.2f}%',\n",
        "                xy=(len(train_accuracies), train_accuracies[-1]),\n",
        "                xytext=(len(train_accuracies)-1, train_accuracies[-1]+0.1),\n",
        "                fontsize=10, ha='right')\n",
        "    plt.annotate(f'Final Val: {val_accuracies[-1]:.2f}%',\n",
        "                xy=(len(val_accuracies), val_accuracies[-1]),\n",
        "                xytext=(len(val_accuracies)-1, val_accuracies[-1]-0.1),\n",
        "                fontsize=10, ha='right')\n",
        "\n",
        "    plt.tight_layout()\n",
        "    plt.show()\n",
        "\n",
        "except ImportError:\n",
        "    print(\"Matplotlib not available for plotting\")\n",
        "    for i, (train_acc, val_acc) in enumerate(zip(train_accuracies, val_accuracies), 1):\n",
        "        print(f\"Epoch {i}: Train={train_acc:.2f}%, Val={val_acc:.2f}%\")"
      ],
      "metadata": {
        "colab": {
          "base_uri": "https://localhost:8080/",
          "height": 1000
        },
        "id": "GGx3rfrRRmZI",
        "outputId": "0ff59cfd-1cc5-4f9c-f8ee-e70219b46d3e"
      },
      "execution_count": 24,
      "outputs": [
        {
          "output_type": "stream",
          "name": "stdout",
          "text": [
            "Using device: cuda\n",
            "----------------------------------------------------------------\n",
            "        Layer (type)               Output Shape         Param #\n",
            "================================================================\n",
            "            Conv2d-1            [-1, 8, 28, 28]              80\n",
            "       BatchNorm2d-2            [-1, 8, 28, 28]              16\n",
            "            Conv2d-3           [-1, 14, 28, 28]           1,022\n",
            "       BatchNorm2d-4           [-1, 14, 28, 28]              28\n",
            "         MaxPool2d-5           [-1, 14, 14, 14]               0\n",
            "           Dropout-6           [-1, 14, 14, 14]               0\n",
            "            Conv2d-7           [-1, 16, 14, 14]           2,032\n",
            "       BatchNorm2d-8           [-1, 16, 14, 14]              32\n",
            "            Conv2d-9           [-1, 20, 14, 14]           2,900\n",
            "      BatchNorm2d-10           [-1, 20, 14, 14]              40\n",
            "        MaxPool2d-11             [-1, 20, 7, 7]               0\n",
            "          Dropout-12             [-1, 20, 7, 7]               0\n",
            "           Conv2d-13             [-1, 24, 5, 5]           4,344\n",
            "      BatchNorm2d-14             [-1, 24, 5, 5]              48\n",
            "           Conv2d-15             [-1, 28, 3, 3]           6,076\n",
            "      BatchNorm2d-16             [-1, 28, 3, 3]              56\n",
            "           Conv2d-17             [-1, 10, 1, 1]           2,530\n",
            "AdaptiveAvgPool2d-18             [-1, 10, 1, 1]               0\n",
            "================================================================\n",
            "Total params: 19,204\n",
            "Trainable params: 19,204\n",
            "Non-trainable params: 0\n",
            "----------------------------------------------------------------\n",
            "Input size (MB): 0.00\n",
            "Forward/backward pass size (MB): 0.44\n",
            "Params size (MB): 0.07\n",
            "Estimated Total Size (MB): 0.52\n",
            "----------------------------------------------------------------\n",
            "\n",
            "Total Parameters: 19,204\n",
            "Dataset split: 50000 train, 10000 validation\n",
            "Starting training...\n",
            "Starting training...\n",
            "\n",
            "Epoch 1, Learning Rate: 0.100000\n"
          ]
        },
        {
          "output_type": "stream",
          "name": "stderr",
          "text": [
            "Epoch 1: Loss=0.080279 Batch_id=390 Accuracy=96.04%: 100%|██████████| 391/391 [00:15<00:00, 25.96it/s]\n"
          ]
        },
        {
          "output_type": "stream",
          "name": "stdout",
          "text": [
            "\n",
            "Validation set: Average loss: 0.0600, Accuracy: 9807/10000 (98.07%)\n",
            "\n",
            "Epoch 2, Learning Rate: 0.100000\n"
          ]
        },
        {
          "output_type": "stream",
          "name": "stderr",
          "text": [
            "Epoch 2: Loss=0.058485 Batch_id=390 Accuracy=98.62%: 100%|██████████| 391/391 [00:14<00:00, 26.53it/s]\n"
          ]
        },
        {
          "output_type": "stream",
          "name": "stdout",
          "text": [
            "\n",
            "Validation set: Average loss: 0.0408, Accuracy: 9874/10000 (98.74%)\n",
            "\n",
            "Epoch 3, Learning Rate: 0.100000\n"
          ]
        },
        {
          "output_type": "stream",
          "name": "stderr",
          "text": [
            "Epoch 3: Loss=0.002584 Batch_id=390 Accuracy=98.92%: 100%|██████████| 391/391 [00:14<00:00, 26.48it/s]\n"
          ]
        },
        {
          "output_type": "stream",
          "name": "stdout",
          "text": [
            "\n",
            "Validation set: Average loss: 0.0472, Accuracy: 9844/10000 (98.44%)\n",
            "\n",
            "Epoch 4, Learning Rate: 0.100000\n"
          ]
        },
        {
          "output_type": "stream",
          "name": "stderr",
          "text": [
            "Epoch 4: Loss=0.002478 Batch_id=390 Accuracy=99.04%: 100%|██████████| 391/391 [00:15<00:00, 26.02it/s]\n"
          ]
        },
        {
          "output_type": "stream",
          "name": "stdout",
          "text": [
            "\n",
            "Validation set: Average loss: 0.0315, Accuracy: 9891/10000 (98.91%)\n",
            "\n",
            "Epoch 5, Learning Rate: 0.100000\n"
          ]
        },
        {
          "output_type": "stream",
          "name": "stderr",
          "text": [
            "Epoch 5: Loss=0.033928 Batch_id=390 Accuracy=99.18%: 100%|██████████| 391/391 [00:14<00:00, 27.15it/s]\n"
          ]
        },
        {
          "output_type": "stream",
          "name": "stdout",
          "text": [
            "\n",
            "Validation set: Average loss: 0.0300, Accuracy: 9907/10000 (99.07%)\n",
            "\n",
            "Epoch 6, Learning Rate: 0.100000\n"
          ]
        },
        {
          "output_type": "stream",
          "name": "stderr",
          "text": [
            "Epoch 6: Loss=0.006727 Batch_id=390 Accuracy=99.27%: 100%|██████████| 391/391 [00:14<00:00, 27.18it/s]\n"
          ]
        },
        {
          "output_type": "stream",
          "name": "stdout",
          "text": [
            "\n",
            "Validation set: Average loss: 0.0362, Accuracy: 9882/10000 (98.82%)\n",
            "\n",
            "Epoch 7, Learning Rate: 0.010000\n"
          ]
        },
        {
          "output_type": "stream",
          "name": "stderr",
          "text": [
            "Epoch 7: Loss=0.007413 Batch_id=390 Accuracy=99.55%: 100%|██████████| 391/391 [00:14<00:00, 27.18it/s]\n"
          ]
        },
        {
          "output_type": "stream",
          "name": "stdout",
          "text": [
            "\n",
            "Validation set: Average loss: 0.0211, Accuracy: 9931/10000 (99.31%)\n",
            "\n",
            "Epoch 8, Learning Rate: 0.010000\n"
          ]
        },
        {
          "output_type": "stream",
          "name": "stderr",
          "text": [
            "Epoch 8: Loss=0.021519 Batch_id=390 Accuracy=99.67%: 100%|██████████| 391/391 [00:14<00:00, 27.02it/s]\n"
          ]
        },
        {
          "output_type": "stream",
          "name": "stdout",
          "text": [
            "\n",
            "Validation set: Average loss: 0.0202, Accuracy: 9933/10000 (99.33%)\n",
            "\n",
            "Epoch 9, Learning Rate: 0.010000\n"
          ]
        },
        {
          "output_type": "stream",
          "name": "stderr",
          "text": [
            "Epoch 9: Loss=0.009189 Batch_id=390 Accuracy=99.70%: 100%|██████████| 391/391 [00:14<00:00, 27.16it/s]\n"
          ]
        },
        {
          "output_type": "stream",
          "name": "stdout",
          "text": [
            "\n",
            "Validation set: Average loss: 0.0204, Accuracy: 9933/10000 (99.33%)\n",
            "\n",
            "Epoch 10, Learning Rate: 0.010000\n"
          ]
        },
        {
          "output_type": "stream",
          "name": "stderr",
          "text": [
            "Epoch 10: Loss=0.002600 Batch_id=390 Accuracy=99.72%: 100%|██████████| 391/391 [00:14<00:00, 27.19it/s]\n"
          ]
        },
        {
          "output_type": "stream",
          "name": "stdout",
          "text": [
            "\n",
            "Validation set: Average loss: 0.0198, Accuracy: 9936/10000 (99.36%)\n",
            "\n",
            "Epoch 11, Learning Rate: 0.010000\n"
          ]
        },
        {
          "output_type": "stream",
          "name": "stderr",
          "text": [
            "Epoch 11: Loss=0.005749 Batch_id=390 Accuracy=99.74%: 100%|██████████| 391/391 [00:15<00:00, 25.62it/s]\n"
          ]
        },
        {
          "output_type": "stream",
          "name": "stdout",
          "text": [
            "\n",
            "Validation set: Average loss: 0.0195, Accuracy: 9938/10000 (99.38%)\n",
            "\n",
            "Epoch 12, Learning Rate: 0.010000\n"
          ]
        },
        {
          "output_type": "stream",
          "name": "stderr",
          "text": [
            "Epoch 12: Loss=0.000897 Batch_id=390 Accuracy=99.74%: 100%|██████████| 391/391 [00:14<00:00, 27.13it/s]\n"
          ]
        },
        {
          "output_type": "stream",
          "name": "stdout",
          "text": [
            "\n",
            "Validation set: Average loss: 0.0194, Accuracy: 9940/10000 (99.40%)\n",
            "\n",
            "🎉 Target accuracy of 99.4% achieved in epoch 12!\n",
            "\n",
            "✅ Training completed!\n",
            "📊 Best validation accuracy: 99.40%\n",
            "🔢 Total parameters used: 19,204\n"
          ]
        },
        {
          "output_type": "display_data",
          "data": {
            "text/plain": [
              "<Figure size 1000x600 with 1 Axes>"
            ],
            "image/png": "[encoded data removed]"
          },
          "metadata": {}
        }
      ]
    },
    {
      "cell_type": "code",
      "source": [],
      "metadata": {
        "id": "y-Mga8W8SIlF"
      },
      "execution_count": null,
      "outputs": []
    }
  ]
}