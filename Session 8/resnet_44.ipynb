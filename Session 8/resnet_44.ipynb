{
  "nbformat": 4,
  "nbformat_minor": 0,
  "metadata": {
    "colab": {
      "provenance": [],
      "gpuType": "T4"
    },
    "kernelspec": {
      "name": "python3",
      "display_name": "Python 3"
    },
    "language_info": {
      "name": "python"
    },
    "accelerator": "GPU",
    "widgets": {
      "application/vnd.jupyter.widget-state+json": {
        "8bdd58edf06148e5859a0bee8598227e": {
          "model_module": "@jupyter-widgets/controls",
          "model_name": "HBoxModel",
          "model_module_version": "1.5.0",
          "state": {
            "_dom_classes": [],
            "_model_module": "@jupyter-widgets/controls",
            "_model_module_version": "1.5.0",
            "_model_name": "HBoxModel",
            "_view_count": null,
            "_view_module": "@jupyter-widgets/controls",
            "_view_module_version": "1.5.0",
            "_view_name": "HBoxView",
            "box_style": "",
            "children": [
              "IPY_MODEL_04bdb37e054a48ab8f3d24b81cf3a0bb",
              "IPY_MODEL_b9b92eecefcb48ec98bc7196e65e25af",
              "IPY_MODEL_0621e1ebeeab4d08bb0d327eecffae53"
            ],
            "layout": "IPY_MODEL_c810b19670b845edbc10c5a2ea2689ec"
          }
        },
        "04bdb37e054a48ab8f3d24b81cf3a0bb": {
          "model_module": "@jupyter-widgets/controls",
          "model_name": "HTMLModel",
          "model_module_version": "1.5.0",
          "state": {
            "_dom_classes": [],
            "_model_module": "@jupyter-widgets/controls",
            "_model_module_version": "1.5.0",
            "_model_name": "HTMLModel",
            "_view_count": null,
            "_view_module": "@jupyter-widgets/controls",
            "_view_module_version": "1.5.0",
            "_view_name": "HTMLView",
            "description": "",
            "description_tooltip": null,
            "layout": "IPY_MODEL_05453a5b2db9428fb7a521bf4a904209",
            "placeholder": "​",
            "style": "IPY_MODEL_f25e1b2ea1194ee0a4e9da9de83e10df",
            "value": "100%"
          }
        },
        "b9b92eecefcb48ec98bc7196e65e25af": {
          "model_module": "@jupyter-widgets/controls",
          "model_name": "FloatProgressModel",
          "model_module_version": "1.5.0",
          "state": {
            "_dom_classes": [],
            "_model_module": "@jupyter-widgets/controls",
            "_model_module_version": "1.5.0",
            "_model_name": "FloatProgressModel",
            "_view_count": null,
            "_view_module": "@jupyter-widgets/controls",
            "_view_module_version": "1.5.0",
            "_view_name": "ProgressView",
            "bar_style": "success",
            "description": "",
            "description_tooltip": null,
            "layout": "IPY_MODEL_672140df59cb4aa8a48979a047d51c8e",
            "max": 200,
            "min": 0,
            "orientation": "horizontal",
            "style": "IPY_MODEL_dea5ab12ab8843439e3b7b9ca95dd6cb",
            "value": 200
          }
        },
        "0621e1ebeeab4d08bb0d327eecffae53": {
          "model_module": "@jupyter-widgets/controls",
          "model_name": "HTMLModel",
          "model_module_version": "1.5.0",
          "state": {
            "_dom_classes": [],
            "_model_module": "@jupyter-widgets/controls",
            "_model_module_version": "1.5.0",
            "_model_name": "HTMLModel",
            "_view_count": null,
            "_view_module": "@jupyter-widgets/controls",
            "_view_module_version": "1.5.0",
            "_view_name": "HTMLView",
            "description": "",
            "description_tooltip": null,
            "layout": "IPY_MODEL_25b38b6e2c5f4db59c3318e65e78d173",
            "placeholder": "​",
            "style": "IPY_MODEL_21fcbbbd05614005a2d71c6fbe6e0ae9",
            "value": " 200/200 [00:45&lt;00:00,  4.60it/s]"
          }
        },
        "c810b19670b845edbc10c5a2ea2689ec": {
          "model_module": "@jupyter-widgets/base",
          "model_name": "LayoutModel",
          "model_module_version": "1.2.0",
          "state": {
            "_model_module": "@jupyter-widgets/base",
            "_model_module_version": "1.2.0",
            "_model_name": "LayoutModel",
            "_view_count": null,
            "_view_module": "@jupyter-widgets/base",
            "_view_module_version": "1.2.0",
            "_view_name": "LayoutView",
            "align_content": null,
            "align_items": null,
            "align_self": null,
            "border": null,
            "bottom": null,
            "display": null,
            "flex": null,
            "flex_flow": null,
            "grid_area": null,
            "grid_auto_columns": null,
            "grid_auto_flow": null,
            "grid_auto_rows": null,
            "grid_column": null,
            "grid_gap": null,
            "grid_row": null,
            "grid_template_areas": null,
            "grid_template_columns": null,
            "grid_template_rows": null,
            "height": null,
            "justify_content": null,
            "justify_items": null,
            "left": null,
            "margin": null,
            "max_height": null,
            "max_width": null,
            "min_height": null,
            "min_width": null,
            "object_fit": null,
            "object_position": null,
            "order": null,
            "overflow": null,
            "overflow_x": null,
            "overflow_y": null,
            "padding": null,
            "right": null,
            "top": null,
            "visibility": null,
            "width": null
          }
        },
        "05453a5b2db9428fb7a521bf4a904209": {
          "model_module": "@jupyter-widgets/base",
          "model_name": "LayoutModel",
          "model_module_version": "1.2.0",
          "state": {
            "_model_module": "@jupyter-widgets/base",
            "_model_module_version": "1.2.0",
            "_model_name": "LayoutModel",
            "_view_count": null,
            "_view_module": "@jupyter-widgets/base",
            "_view_module_version": "1.2.0",
            "_view_name": "LayoutView",
            "align_content": null,
            "align_items": null,
            "align_self": null,
            "border": null,
            "bottom": null,
            "display": null,
            "flex": null,
            "flex_flow": null,
            "grid_area": null,
            "grid_auto_columns": null,
            "grid_auto_flow": null,
            "grid_auto_rows": null,
            "grid_column": null,
            "grid_gap": null,
            "grid_row": null,
            "grid_template_areas": null,
            "grid_template_columns": null,
            "grid_template_rows": null,
            "height": null,
            "justify_content": null,
            "justify_items": null,
            "left": null,
            "margin": null,
            "max_height": null,
            "max_width": null,
            "min_height": null,
            "min_width": null,
            "object_fit": null,
            "object_position": null,
            "order": null,
            "overflow": null,
            "overflow_x": null,
            "overflow_y": null,
            "padding": null,
            "right": null,
            "top": null,
            "visibility": null,
            "width": null
          }
        },
        "f25e1b2ea1194ee0a4e9da9de83e10df": {
          "model_module": "@jupyter-widgets/controls",
          "model_name": "DescriptionStyleModel",
          "model_module_version": "1.5.0",
          "state": {
            "_model_module": "@jupyter-widgets/controls",
            "_model_module_version": "1.5.0",
            "_model_name": "DescriptionStyleModel",
            "_view_count": null,
            "_view_module": "@jupyter-widgets/base",
            "_view_module_version": "1.2.0",
            "_view_name": "StyleView",
            "description_width": ""
          }
        },
        "672140df59cb4aa8a48979a047d51c8e": {
          "model_module": "@jupyter-widgets/base",
          "model_name": "LayoutModel",
          "model_module_version": "1.2.0",
          "state": {
            "_model_module": "@jupyter-widgets/base",
            "_model_module_version": "1.2.0",
            "_model_name": "LayoutModel",
            "_view_count": null,
            "_view_module": "@jupyter-widgets/base",
            "_view_module_version": "1.2.0",
            "_view_name": "LayoutView",
            "align_content": null,
            "align_items": null,
            "align_self": null,
            "border": null,
            "bottom": null,
            "display": null,
            "flex": null,
            "flex_flow": null,
            "grid_area": null,
            "grid_auto_columns": null,
            "grid_auto_flow": null,
            "grid_auto_rows": null,
            "grid_column": null,
            "grid_gap": null,
            "grid_row": null,
            "grid_template_areas": null,
            "grid_template_columns": null,
            "grid_template_rows": null,
            "height": null,
            "justify_content": null,
            "justify_items": null,
            "left": null,
            "margin": null,
            "max_height": null,
            "max_width": null,
            "min_height": null,
            "min_width": null,
            "object_fit": null,
            "object_position": null,
            "order": null,
            "overflow": null,
            "overflow_x": null,
            "overflow_y": null,
            "padding": null,
            "right": null,
            "top": null,
            "visibility": null,
            "width": null
          }
        },
        "dea5ab12ab8843439e3b7b9ca95dd6cb": {
          "model_module": "@jupyter-widgets/controls",
          "model_name": "ProgressStyleModel",
          "model_module_version": "1.5.0",
          "state": {
            "_model_module": "@jupyter-widgets/controls",
            "_model_module_version": "1.5.0",
            "_model_name": "ProgressStyleModel",
            "_view_count": null,
            "_view_module": "@jupyter-widgets/base",
            "_view_module_version": "1.2.0",
            "_view_name": "StyleView",
            "bar_color": null,
            "description_width": ""
          }
        },
        "25b38b6e2c5f4db59c3318e65e78d173": {
          "model_module": "@jupyter-widgets/base",
          "model_name": "LayoutModel",
          "model_module_version": "1.2.0",
          "state": {
            "_model_module": "@jupyter-widgets/base",
            "_model_module_version": "1.2.0",
            "_model_name": "LayoutModel",
            "_view_count": null,
            "_view_module": "@jupyter-widgets/base",
            "_view_module_version": "1.2.0",
            "_view_name": "LayoutView",
            "align_content": null,
            "align_items": null,
            "align_self": null,
            "border": null,
            "bottom": null,
            "display": null,
            "flex": null,
            "flex_flow": null,
            "grid_area": null,
            "grid_auto_columns": null,
            "grid_auto_flow": null,
            "grid_auto_rows": null,
            "grid_column": null,
            "grid_gap": null,
            "grid_row": null,
            "grid_template_areas": null,
            "grid_template_columns": null,
            "grid_template_rows": null,
            "height": null,
            "justify_content": null,
            "justify_items": null,
            "left": null,
            "margin": null,
            "max_height": null,
            "max_width": null,
            "min_height": null,
            "min_width": null,
            "object_fit": null,
            "object_position": null,
            "order": null,
            "overflow": null,
            "overflow_x": null,
            "overflow_y": null,
            "padding": null,
            "right": null,
            "top": null,
            "visibility": null,
            "width": null
          }
        },
        "21fcbbbd05614005a2d71c6fbe6e0ae9": {
          "model_module": "@jupyter-widgets/controls",
          "model_name": "DescriptionStyleModel",
          "model_module_version": "1.5.0",
          "state": {
            "_model_module": "@jupyter-widgets/controls",
            "_model_module_version": "1.5.0",
            "_model_name": "DescriptionStyleModel",
            "_view_count": null,
            "_view_module": "@jupyter-widgets/base",
            "_view_module_version": "1.2.0",
            "_view_name": "StyleView",
            "description_width": ""
          }
        }
      }
    }
  },
  "cells": [
    {
      "cell_type": "code",
      "source": [
        "!pip install torch-lr-finder"
      ],
      "metadata": {
        "colab": {
          "base_uri": "https://localhost:8080/"
        },
        "id": "tnsFxnaoLuyz",
        "outputId": "a10c622c-15f1-4c9a-d146-81571842d68b"
      },
      "execution_count": 2,
      "outputs": [
        {
          "output_type": "stream",
          "name": "stdout",
          "text": [
            "Collecting torch-lr-finder\n",
            "  Downloading torch_lr_finder-0.2.2-py3-none-any.whl.metadata (8.5 kB)\n",
            "Requirement already satisfied: matplotlib in /usr/local/lib/python3.12/dist-packages (from torch-lr-finder) (3.10.0)\n",
            "Requirement already satisfied: numpy in /usr/local/lib/python3.12/dist-packages (from torch-lr-finder) (2.0.2)\n",
            "Requirement already satisfied: torch>=0.4.1 in /usr/local/lib/python3.12/dist-packages (from torch-lr-finder) (2.8.0+cu126)\n",
            "Requirement already satisfied: tqdm in /usr/local/lib/python3.12/dist-packages (from torch-lr-finder) (4.67.1)\n",
            "Requirement already satisfied: packaging in /usr/local/lib/python3.12/dist-packages (from torch-lr-finder) (25.0)\n",
            "Requirement already satisfied: filelock in /usr/local/lib/python3.12/dist-packages (from torch>=0.4.1->torch-lr-finder) (3.20.0)\n",
            "Requirement already satisfied: typing-extensions>=4.10.0 in /usr/local/lib/python3.12/dist-packages (from torch>=0.4.1->torch-lr-finder) (4.15.0)\n",
            "Requirement already satisfied: setuptools in /usr/local/lib/python3.12/dist-packages (from torch>=0.4.1->torch-lr-finder) (75.2.0)\n",
            "Requirement already satisfied: sympy>=1.13.3 in /usr/local/lib/python3.12/dist-packages (from torch>=0.4.1->torch-lr-finder) (1.13.3)\n",
            "Requirement already satisfied: networkx in /usr/local/lib/python3.12/dist-packages (from torch>=0.4.1->torch-lr-finder) (3.5)\n",
            "Requirement already satisfied: jinja2 in /usr/local/lib/python3.12/dist-packages (from torch>=0.4.1->torch-lr-finder) (3.1.6)\n",
            "Requirement already satisfied: fsspec in /usr/local/lib/python3.12/dist-packages (from torch>=0.4.1->torch-lr-finder) (2025.3.0)\n",
            "Requirement already satisfied: nvidia-cuda-nvrtc-cu12==12.6.77 in /usr/local/lib/python3.12/dist-packages (from torch>=0.4.1->torch-lr-finder) (12.6.77)\n",
            "Requirement already satisfied: nvidia-cuda-runtime-cu12==12.6.77 in /usr/local/lib/python3.12/dist-packages (from torch>=0.4.1->torch-lr-finder) (12.6.77)\n",
            "Requirement already satisfied: nvidia-cuda-cupti-cu12==12.6.80 in /usr/local/lib/python3.12/dist-packages (from torch>=0.4.1->torch-lr-finder) (12.6.80)\n",
            "Requirement already satisfied: nvidia-cudnn-cu12==9.10.2.21 in /usr/local/lib/python3.12/dist-packages (from torch>=0.4.1->torch-lr-finder) (9.10.2.21)\n",
            "Requirement already satisfied: nvidia-cublas-cu12==12.6.4.1 in /usr/local/lib/python3.12/dist-packages (from torch>=0.4.1->torch-lr-finder) (12.6.4.1)\n",
            "Requirement already satisfied: nvidia-cufft-cu12==11.3.0.4 in /usr/local/lib/python3.12/dist-packages (from torch>=0.4.1->torch-lr-finder) (11.3.0.4)\n",
            "Requirement already satisfied: nvidia-curand-cu12==10.3.7.77 in /usr/local/lib/python3.12/dist-packages (from torch>=0.4.1->torch-lr-finder) (10.3.7.77)\n",
            "Requirement already satisfied: nvidia-cusolver-cu12==11.7.1.2 in /usr/local/lib/python3.12/dist-packages (from torch>=0.4.1->torch-lr-finder) (11.7.1.2)\n",
            "Requirement already satisfied: nvidia-cusparse-cu12==12.5.4.2 in /usr/local/lib/python3.12/dist-packages (from torch>=0.4.1->torch-lr-finder) (12.5.4.2)\n",
            "Requirement already satisfied: nvidia-cusparselt-cu12==0.7.1 in /usr/local/lib/python3.12/dist-packages (from torch>=0.4.1->torch-lr-finder) (0.7.1)\n",
            "Requirement already satisfied: nvidia-nccl-cu12==2.27.3 in /usr/local/lib/python3.12/dist-packages (from torch>=0.4.1->torch-lr-finder) (2.27.3)\n",
            "Requirement already satisfied: nvidia-nvtx-cu12==12.6.77 in /usr/local/lib/python3.12/dist-packages (from torch>=0.4.1->torch-lr-finder) (12.6.77)\n",
            "Requirement already satisfied: nvidia-nvjitlink-cu12==12.6.85 in /usr/local/lib/python3.12/dist-packages (from torch>=0.4.1->torch-lr-finder) (12.6.85)\n",
            "Requirement already satisfied: nvidia-cufile-cu12==1.11.1.6 in /usr/local/lib/python3.12/dist-packages (from torch>=0.4.1->torch-lr-finder) (1.11.1.6)\n",
            "Requirement already satisfied: triton==3.4.0 in /usr/local/lib/python3.12/dist-packages (from torch>=0.4.1->torch-lr-finder) (3.4.0)\n",
            "Requirement already satisfied: contourpy>=1.0.1 in /usr/local/lib/python3.12/dist-packages (from matplotlib->torch-lr-finder) (1.3.3)\n",
            "Requirement already satisfied: cycler>=0.10 in /usr/local/lib/python3.12/dist-packages (from matplotlib->torch-lr-finder) (0.12.1)\n",
            "Requirement already satisfied: fonttools>=4.22.0 in /usr/local/lib/python3.12/dist-packages (from matplotlib->torch-lr-finder) (4.60.1)\n",
            "Requirement already satisfied: kiwisolver>=1.3.1 in /usr/local/lib/python3.12/dist-packages (from matplotlib->torch-lr-finder) (1.4.9)\n",
            "Requirement already satisfied: pillow>=8 in /usr/local/lib/python3.12/dist-packages (from matplotlib->torch-lr-finder) (11.3.0)\n",
            "Requirement already satisfied: pyparsing>=2.3.1 in /usr/local/lib/python3.12/dist-packages (from matplotlib->torch-lr-finder) (3.2.5)\n",
            "Requirement already satisfied: python-dateutil>=2.7 in /usr/local/lib/python3.12/dist-packages (from matplotlib->torch-lr-finder) (2.9.0.post0)\n",
            "Requirement already satisfied: six>=1.5 in /usr/local/lib/python3.12/dist-packages (from python-dateutil>=2.7->matplotlib->torch-lr-finder) (1.17.0)\n",
            "Requirement already satisfied: mpmath<1.4,>=1.1.0 in /usr/local/lib/python3.12/dist-packages (from sympy>=1.13.3->torch>=0.4.1->torch-lr-finder) (1.3.0)\n",
            "Requirement already satisfied: MarkupSafe>=2.0 in /usr/local/lib/python3.12/dist-packages (from jinja2->torch>=0.4.1->torch-lr-finder) (3.0.3)\n",
            "Downloading torch_lr_finder-0.2.2-py3-none-any.whl (12 kB)\n",
            "Installing collected packages: torch-lr-finder\n",
            "Successfully installed torch-lr-finder-0.2.2\n"
          ]
        }
      ]
    },
    {
      "cell_type": "code",
      "execution_count": 3,
      "metadata": {
        "colab": {
          "base_uri": "https://localhost:8080/"
        },
        "id": "-wy36ZPmLAzm",
        "outputId": "6c6d98cc-2a83-4508-a98d-48c6d8cbc00b"
      },
      "outputs": [
        {
          "output_type": "stream",
          "name": "stderr",
          "text": [
            "/usr/local/lib/python3.12/dist-packages/torch_lr_finder/lr_finder.py:5: TqdmExperimentalWarning: Using `tqdm.autonotebook.tqdm` in notebook mode. Use `tqdm.tqdm` instead to force console mode (e.g. in jupyter console)\n",
            "  from tqdm.autonotebook import tqdm\n"
          ]
        }
      ],
      "source": [
        "import torch\n",
        "import torch.nn as nn\n",
        "import torch.optim as optim\n",
        "import torch.nn.functional as F\n",
        "from torch.optim.lr_scheduler import OneCycleLR\n",
        "import torchvision\n",
        "import torchvision.transforms as transforms\n",
        "from torchvision import datasets\n",
        "import numpy as np\n",
        "import matplotlib.pyplot as plt\n",
        "from tqdm import tqdm\n",
        "from torch_lr_finder import LRFinder\n",
        "import albumentations as A\n",
        "from albumentations.pytorch import ToTensorV2"
      ]
    },
    {
      "cell_type": "code",
      "source": [
        "# ==================== RESIDUAL BLOCK ====================\n",
        "class ResidualBlock(nn.Module):\n",
        "    def __init__(self, in_channels, out_channels, stride=1):\n",
        "        super(ResidualBlock, self).__init__()\n",
        "        self.conv1 = nn.Conv2d(in_channels, out_channels, kernel_size=3,\n",
        "                               stride=stride, padding=1, bias=False)\n",
        "        self.bn1 = nn.BatchNorm2d(out_channels)\n",
        "        self.conv2 = nn.Conv2d(out_channels, out_channels, kernel_size=3,\n",
        "                               stride=1, padding=1, bias=False)\n",
        "        self.bn2 = nn.BatchNorm2d(out_channels)\n",
        "\n",
        "        self.shortcut = nn.Sequential()\n",
        "        if stride != 1 or in_channels != out_channels:\n",
        "            self.shortcut = nn.Sequential(\n",
        "                nn.Conv2d(in_channels, out_channels, kernel_size=1,\n",
        "                         stride=stride, bias=False),\n",
        "                nn.BatchNorm2d(out_channels)\n",
        "            )\n",
        "\n",
        "    def forward(self, x):\n",
        "        out = F.relu(self.bn1(self.conv1(x)))\n",
        "        out = self.bn2(self.conv2(out))\n",
        "        out += self.shortcut(x)\n",
        "        out = F.relu(out)\n",
        "        return out"
      ],
      "metadata": {
        "id": "hYXg9C-GL1AC"
      },
      "execution_count": 4,
      "outputs": []
    },
    {
      "cell_type": "code",
      "source": [
        "# ==================== RESNET-44 MODEL ====================\n",
        "class ResNet44(nn.Module):\n",
        "    def __init__(self, block, num_blocks, num_classes=100):\n",
        "        super(ResNet44, self).__init__()\n",
        "        self.in_channels = 64\n",
        "\n",
        "        self.conv1 = nn.Conv2d(3, 64, kernel_size=3, stride=1, padding=1, bias=False)\n",
        "        self.bn1 = nn.BatchNorm2d(64)\n",
        "\n",
        "        self.layer1 = self._make_layer(block, 64, num_blocks[0], stride=1)\n",
        "        self.layer2 = self._make_layer(block, 128, num_blocks[1], stride=2)\n",
        "        self.layer3 = self._make_layer(block, 256, num_blocks[2], stride=2)\n",
        "        self.layer4 = self._make_layer(block, 512, num_blocks[3], stride=2)\n",
        "\n",
        "        self.avgpool = nn.AdaptiveAvgPool2d((1, 1))\n",
        "        self.dropout = nn.Dropout(0.3)\n",
        "        self.fc = nn.Linear(512, num_classes)\n",
        "\n",
        "    def _make_layer(self, block, out_channels, num_blocks, stride):\n",
        "        strides = [stride] + [1] * (num_blocks - 1)\n",
        "        layers = []\n",
        "        for stride in strides:\n",
        "            layers.append(block(self.in_channels, out_channels, stride))\n",
        "            self.in_channels = out_channels\n",
        "        return nn.Sequential(*layers)\n",
        "\n",
        "    def forward(self, x):\n",
        "        out = F.relu(self.bn1(self.conv1(x)))\n",
        "        out = self.layer1(out)\n",
        "        out = self.layer2(out)\n",
        "        out = self.layer3(out)\n",
        "        out = self.layer4(out)\n",
        "        out = self.avgpool(out)\n",
        "        out = out.view(out.size(0), -1)\n",
        "        out = self.dropout(out)\n",
        "        out = self.fc(out)\n",
        "        return out\n",
        "\n",
        "def ResNet_44(num_classes=100):\n",
        "    return ResNet44(ResidualBlock, [5, 5, 5, 5], num_classes=num_classes)"
      ],
      "metadata": {
        "id": "XsNXkRB1L1IX"
      },
      "execution_count": 5,
      "outputs": []
    },
    {
      "cell_type": "code",
      "source": [
        " #==================== DATA AUGMENTATION ====================\n",
        "class CIFAR100Dataset(torch.utils.data.Dataset):\n",
        "    def __init__(self, dataset, transform=None):\n",
        "        self.dataset = dataset\n",
        "        self.transform = transform\n",
        "\n",
        "    def __len__(self):\n",
        "        return len(self.dataset)\n",
        "\n",
        "    def __getitem__(self, idx):\n",
        "        image, label = self.dataset[idx]\n",
        "        image = np.array(image)\n",
        "\n",
        "        if self.transform:\n",
        "            augmented = self.transform(image=image)\n",
        "            image = augmented['image']\n",
        "\n",
        "        return image, label\n",
        "\n",
        "def get_transforms():\n",
        "    # CIFAR-100 normalization\n",
        "    mean = [0.5071, 0.4867, 0.4408]\n",
        "    std = [0.2675, 0.2565, 0.2761]\n",
        "\n",
        "    train_transform = A.Compose([\n",
        "        A.PadIfNeeded(min_height=40, min_width=40, p=1.0),\n",
        "        A.RandomCrop(32, 32, p=1.0),\n",
        "        A.HorizontalFlip(p=0.5),\n",
        "        A.Affine(scale=(0.85, 1.15), translate_percent=0.1, rotate=(-15, 15), p=0.5),\n",
        "        A.CoarseDropout(\n",
        "            num_holes_range=(1, 1),\n",
        "            hole_height_range=(16, 16),\n",
        "            hole_width_range=(16, 16),\n",
        "            fill=tuple([int(x*255) for x in mean]),\n",
        "            p=0.3\n",
        "        ),\n",
        "        A.Normalize(mean, std),\n",
        "        ToTensorV2(),\n",
        "    ])\n",
        "\n",
        "    test_transform = A.Compose([\n",
        "        A.Normalize(mean, std),\n",
        "        ToTensorV2(),\n",
        "    ])\n",
        "\n",
        "    return train_transform, test_transform\n",
        "\n",
        "# ==================== CUTMIX ====================\n",
        "def cutmix_data(x, y, alpha=1.0):\n",
        "    lam = np.random.beta(alpha, alpha)\n",
        "    batch_size = x.size(0)\n",
        "    index = torch.randperm(batch_size).to(x.device)\n",
        "\n",
        "    H, W = x.size(2), x.size(3)\n",
        "    cut_rat = np.sqrt(1. - lam)\n",
        "    cut_w = int(W * cut_rat)\n",
        "    cut_h = int(H * cut_rat)\n",
        "\n",
        "    cx = np.random.randint(W)\n",
        "    cy = np.random.randint(H)\n",
        "\n",
        "    bbx1 = np.clip(cx - cut_w // 2, 0, W)\n",
        "    bby1 = np.clip(cy - cut_h // 2, 0, H)\n",
        "    bbx2 = np.clip(cx + cut_w // 2, 0, W)\n",
        "    bby2 = np.clip(cy + cut_h // 2, 0, H)\n",
        "\n",
        "    x[:, :, bby1:bby2, bbx1:bbx2] = x[index, :, bby1:bby2, bbx1:bbx2]\n",
        "\n",
        "    lam = 1 - ((bbx2 - bbx1) * (bby2 - bby1) / (W * H))\n",
        "    return x, y, y[index], lam"
      ],
      "metadata": {
        "id": "FcJohJ-MLjqm"
      },
      "execution_count": 6,
      "outputs": []
    },
    {
      "cell_type": "code",
      "source": [
        "# ==================== TRAINING ====================\n",
        "def train(model, device, train_loader, optimizer, epoch, scheduler, criterion, use_cutmix=True):\n",
        "    model.train()\n",
        "    pbar = tqdm(train_loader, desc=f'Epoch {epoch}')\n",
        "    correct = 0\n",
        "    processed = 0\n",
        "    train_loss = 0\n",
        "\n",
        "    for batch_idx, (data, target) in enumerate(pbar):\n",
        "        data, target = data.to(device), target.to(device)\n",
        "        optimizer.zero_grad()\n",
        "\n",
        "        # Apply CutMix with 50% probability\n",
        "        if use_cutmix and np.random.rand() < 0.5:\n",
        "            data, target_a, target_b, lam = cutmix_data(data, target, alpha=1.0)\n",
        "            output = model(data)\n",
        "            loss = criterion(output, target_a) * lam + criterion(output, target_b) * (1. - lam)\n",
        "        else:\n",
        "            output = model(data)\n",
        "            loss = criterion(output, target)\n",
        "\n",
        "        loss.backward()\n",
        "        optimizer.step()\n",
        "        scheduler.step()\n",
        "\n",
        "        train_loss += loss.item()\n",
        "        pred = output.argmax(dim=1, keepdim=True)\n",
        "        correct += pred.eq(target.view_as(pred)).sum().item()\n",
        "        processed += len(data)\n",
        "\n",
        "        pbar.set_postfix({\n",
        "            'Loss': f'{loss.item():.4f}',\n",
        "            'Batch_id': batch_idx,\n",
        "            'Accuracy': f'{100. * correct / processed:.2f}'\n",
        "        })\n",
        "\n",
        "    train_acc = 100. * correct / len(train_loader.dataset)\n",
        "    avg_loss = train_loss / len(train_loader)\n",
        "    return avg_loss, train_acc"
      ],
      "metadata": {
        "id": "GUF9sC-MO_77"
      },
      "execution_count": 7,
      "outputs": []
    },
    {
      "cell_type": "code",
      "source": [
        "# ==================== TESTING ====================\n",
        "def test(model, device, test_loader, criterion):\n",
        "    model.eval()\n",
        "    test_loss = 0\n",
        "    correct = 0\n",
        "\n",
        "    with torch.no_grad():\n",
        "        for data, target in test_loader:\n",
        "            data, target = data.to(device), target.to(device)\n",
        "            output = model(data)\n",
        "            test_loss += criterion(output, target).item()\n",
        "            pred = output.argmax(dim=1, keepdim=True)\n",
        "            correct += pred.eq(target.view_as(pred)).sum().item()\n",
        "\n",
        "    test_loss /= len(test_loader)\n",
        "    test_acc = 100. * correct / len(test_loader.dataset)\n",
        "\n",
        "    print(f'\\nTest set: Average loss: {test_loss:.4f}, Accuracy: {correct}/{len(test_loader.dataset)} ({test_acc:.2f}%)\\n')\n",
        "\n",
        "    return test_loss, test_acc\n"
      ],
      "metadata": {
        "id": "TB_SZ9fFPAvX"
      },
      "execution_count": 8,
      "outputs": []
    },
    {
      "cell_type": "code",
      "source": [
        "# Set device\n",
        "device = torch.device('cuda' if torch.cuda.is_available() else 'cpu')\n",
        "print(f'Using device: {device}')\n",
        "\n",
        "# Set seed for reproducibility\n",
        "torch.manual_seed(42)\n",
        "if torch.cuda.is_available():\n",
        "    torch.cuda.manual_seed(42)\n",
        "\n",
        "# Data\n",
        "train_transform, test_transform = get_transforms()\n",
        "\n",
        "# Load base datasets\n",
        "train_base = datasets.CIFAR100(root='./data', train=True, download=True)\n",
        "test_base = datasets.CIFAR100(root='./data', train=False, download=True)\n",
        "\n",
        "# Wrap with Albumentations\n",
        "train_dataset = CIFAR100Dataset(train_base, transform=train_transform)\n",
        "test_dataset = CIFAR100Dataset(test_base, transform=test_transform)\n",
        "\n",
        "batch_size = 128 if torch.cuda.is_available() else 64\n",
        "train_loader = torch.utils.data.DataLoader(train_dataset, batch_size=batch_size,\n",
        "                                            shuffle=True, num_workers=2, pin_memory=True)\n",
        "test_loader = torch.utils.data.DataLoader(test_dataset, batch_size=batch_size,\n",
        "                                          shuffle=False, num_workers=2, pin_memory=True)\n",
        "\n",
        "# Model\n",
        "model = ResNet_44(num_classes=100).to(device)\n",
        "print(f'\\nModel: ResNet-44')\n",
        "print(f'Total parameters: {sum(p.numel() for p in model.parameters()):,}')\n",
        "\n",
        "# Loss and Optimizer\n",
        "criterion = nn.CrossEntropyLoss(label_smoothing=0.1)\n",
        "optimizer = optim.SGD(model.parameters(), lr=0.1, momentum=0.9, weight_decay=5e-4)\n",
        "\n",
        "# ==================== LR FINDER ====================\n",
        "print('\\n' + '='*50)\n",
        "print('Running LR Finder...')\n",
        "print('='*50)\n",
        "\n",
        "lr_finder = LRFinder(model, optimizer, criterion, device=device)\n",
        "lr_finder.range_test(train_loader, start_lr=1e-7, end_lr=10, num_iter=200, step_mode='exp')\n",
        "\n",
        "# Plot and analyze\n",
        "lr_finder.plot()\n",
        "\n",
        "# Get suggested LR\n",
        "lrs = lr_finder.history['lr']\n",
        "losses = lr_finder.history['loss']\n",
        "\n",
        "# Find minimum loss point\n",
        "min_loss_idx = np.argmin(losses)\n",
        "min_loss_lr = lrs[min_loss_idx]\n",
        "\n",
        "# For OneCycleLR, use 1/10th to 1/3rd of the min loss LR as max_lr\n",
        "# This is Leslie Smith's recommendation\n",
        "suggested_lr_low = min_loss_lr / 10\n",
        "suggested_lr_high = min_loss_lr / 3\n",
        "\n",
        "print(f'\\nLR Finder Analysis:')\n",
        "print(f'Minimum loss at LR: {min_loss_lr:.2e}')\n",
        "print(f'Suggested max_lr range: {suggested_lr_low:.2e} to {suggested_lr_high:.2e}')\n",
        "print(f'\\nFor CIFAR-100 + ResNet, proven baseline max_lr = 0.1')\n",
        "\n",
        "lr_finder.reset()"
      ],
      "metadata": {
        "colab": {
          "base_uri": "https://localhost:8080/",
          "height": 807,
          "referenced_widgets": [
            "8bdd58edf06148e5859a0bee8598227e",
            "04bdb37e054a48ab8f3d24b81cf3a0bb",
            "b9b92eecefcb48ec98bc7196e65e25af",
            "0621e1ebeeab4d08bb0d327eecffae53",
            "c810b19670b845edbc10c5a2ea2689ec",
            "05453a5b2db9428fb7a521bf4a904209",
            "f25e1b2ea1194ee0a4e9da9de83e10df",
            "672140df59cb4aa8a48979a047d51c8e",
            "dea5ab12ab8843439e3b7b9ca95dd6cb",
            "25b38b6e2c5f4db59c3318e65e78d173",
            "21fcbbbd05614005a2d71c6fbe6e0ae9"
          ]
        },
        "id": "wvqCXaBUMCWn",
        "outputId": "0a535add-1303-477b-8501-693ba96dfe3c"
      },
      "execution_count": 9,
      "outputs": [
        {
          "output_type": "stream",
          "name": "stdout",
          "text": [
            "Using device: cuda\n"
          ]
        },
        {
          "output_type": "stream",
          "name": "stderr",
          "text": [
            "100%|██████████| 169M/169M [00:03<00:00, 47.5MB/s]\n"
          ]
        },
        {
          "output_type": "stream",
          "name": "stdout",
          "text": [
            "\n",
            "Model: ResNet-44\n",
            "Total parameters: 30,032,292\n",
            "\n",
            "==================================================\n",
            "Running LR Finder...\n",
            "==================================================\n"
          ]
        },
        {
          "output_type": "display_data",
          "data": {
            "text/plain": [
              "  0%|          | 0/200 [00:00<?, ?it/s]"
            ],
            "application/vnd.jupyter.widget-view+json": {
              "version_major": 2,
              "version_minor": 0,
              "model_id": "8bdd58edf06148e5859a0bee8598227e"
            }
          },
          "metadata": {}
        },
        {
          "output_type": "stream",
          "name": "stdout",
          "text": [
            "Learning rate search finished. See the graph with {finder_name}.plot()\n",
            "LR suggestion: steepest gradient\n",
            "Suggested LR: 3.11E-05\n"
          ]
        },
        {
          "output_type": "display_data",
          "data": {
            "text/plain": [
              "<Figure size 640x480 with 1 Axes>"
            ],
            "image/png": "[encoded data removed]"
          },
          "metadata": {}
        },
        {
          "output_type": "stream",
          "name": "stdout",
          "text": [
            "\n",
            "LR Finder Analysis:\n",
            "Minimum loss at LR: 1.28e-02\n",
            "Suggested max_lr range: 1.28e-03 to 4.25e-03\n",
            "\n",
            "For CIFAR-100 + ResNet, proven baseline max_lr = 0.1\n"
          ]
        }
      ]
    },
    {
      "cell_type": "code",
      "source": [
        "EPOCHS = 100\n",
        "\n",
        "max_lr = 0.1\n",
        "\n",
        "print(f'\\n{\"=\"*50}')\n",
        "print(f'Using max_lr: {max_lr} (proven baseline)')\n",
        "print(f'{\"=\"*50}')\n",
        "\n",
        "# Recreate optimizer after LR finder\n",
        "optimizer = optim.SGD(model.parameters(), lr=max_lr, momentum=0.9, weight_decay=5e-4)\n",
        "\n",
        "# OneCycleLR with cosine annealing\n",
        "scheduler = OneCycleLR(\n",
        "    optimizer,\n",
        "    max_lr=max_lr,\n",
        "    epochs=EPOCHS,\n",
        "    steps_per_epoch=len(train_loader),\n",
        "    pct_start=0.3,           # 30% warmup\n",
        "    div_factor=25,           # initial_lr = max_lr/25\n",
        "    final_div_factor=10000,  # final_lr = max_lr/10000\n",
        "    anneal_strategy='cos'    # Cosine annealing\n",
        ")\n",
        "\n",
        "print('\\n' + '='*50)\n",
        "print(f'Training for {EPOCHS} epochs')\n",
        "print(f'Max LR: {max_lr}')\n",
        "print(f'Batch size: {batch_size}')\n",
        "print('='*50 + '\\n')\n",
        "\n",
        "train_losses = []\n",
        "test_losses = []\n",
        "train_accs = []\n",
        "test_accs = []\n",
        "best_acc = 0.0\n",
        "\n",
        "for epoch in range(EPOCHS):\n",
        "    print(f'EPOCH: {epoch}\\n')\n",
        "\n",
        "    train_loss, train_acc = train(model, device, train_loader, optimizer,\n",
        "                                  epoch, scheduler, criterion, use_cutmix=True)\n",
        "    test_loss, test_acc = test(model, device, test_loader, criterion)\n",
        "\n",
        "    train_losses.append(train_loss)\n",
        "    test_losses.append(test_loss)\n",
        "    train_accs.append(train_acc)\n",
        "    test_accs.append(test_acc)\n",
        "\n",
        "    # Save best model\n",
        "    if test_acc > best_acc:\n",
        "        best_acc = test_acc\n",
        "        torch.save({\n",
        "            'epoch': epoch,\n",
        "            'model_state_dict': model.state_dict(),\n",
        "            'optimizer_state_dict': optimizer.state_dict(),\n",
        "            'test_acc': test_acc,\n",
        "        }, 'best_resnet44_cifar100.pth')\n",
        "        print(f'✓ Best model saved with accuracy: {best_acc:.2f}%\\n')\n",
        "\n",
        "# Plot results\n",
        "fig, axs = plt.subplots(2, 2, figsize=(15, 10))\n",
        "\n",
        "axs[0, 0].plot(train_losses)\n",
        "axs[0, 0].set_title(\"Training Loss\")\n",
        "axs[0, 0].set_xlabel(\"Epoch\")\n",
        "axs[0, 0].set_ylabel(\"Loss\")\n",
        "\n",
        "axs[1, 0].plot(train_accs)\n",
        "axs[1, 0].set_title(\"Training Accuracy\")\n",
        "axs[1, 0].set_xlabel(\"Epoch\")\n",
        "axs[1, 0].set_ylabel(\"Accuracy (%)\")\n",
        "\n",
        "axs[0, 1].plot(test_losses)\n",
        "axs[0, 1].set_title(\"Test Loss\")\n",
        "axs[0, 1].set_xlabel(\"Epoch\")\n",
        "axs[0, 1].set_ylabel(\"Loss\")\n",
        "\n",
        "axs[1, 1].plot(test_accs)\n",
        "axs[1, 1].set_title(\"Test Accuracy\")\n",
        "axs[1, 1].set_xlabel(\"Epoch\")\n",
        "axs[1, 1].set_ylabel(\"Accuracy (%)\")\n",
        "\n",
        "plt.tight_layout()\n",
        "plt.savefig('training_curves.png', dpi=300, bbox_inches='tight')\n",
        "plt.show()\n",
        "\n",
        "print(f'\\n{\"=\"*50}')\n",
        "print(f'Training Complete!')\n",
        "print(f'Best Test Accuracy: {best_acc:.2f}%')\n",
        "print(f'{\"=\"*50}')\n"
      ],
      "metadata": {
        "colab": {
          "base_uri": "https://localhost:8080/",
          "height": 1000
        },
        "id": "MyXyKhrnQaOR",
        "outputId": "bc4d313a-5eb0-42ba-ef9a-ca7cbd221115"
      },
      "execution_count": 10,
      "outputs": [
        {
          "metadata": {
            "tags": null
          },
          "name": "stdout",
          "output_type": "stream",
          "text": [
            "\n",
            "==================================================\n",
            "Using max_lr: 0.1 (proven baseline)\n",
            "==================================================\n",
            "\n",
            "==================================================\n",
            "Training for 100 epochs\n",
            "Max LR: 0.1\n",
            "Batch size: 128\n",
            "==================================================\n",
            "\n",
            "EPOCH: 0\n",
            "\n"
          ]
        },
        {
          "metadata": {
            "tags": null
          },
          "name": "stderr",
          "output_type": "stream",
          "text": [
            "Epoch 0: 100%|██████████| 391/391 [01:27<00:00,  4.45it/s, Loss=4.0320, Batch_id=390, Accuracy=4.18]\n"
          ]
        },
        {
          "metadata": {
            "tags": null
          },
          "name": "stdout",
          "output_type": "stream",
          "text": [
            "\n",
            "Test set: Average loss: 4.0329, Accuracy: 1014/10000 (10.14%)\n",
            "\n",
            "✓ Best model saved with accuracy: 10.14%\n",
            "\n",
            "EPOCH: 1\n",
            "\n"
          ]
        },
        {
          "metadata": {
            "tags": null
          },
          "name": "stderr",
          "output_type": "stream",
          "text": [
            "Epoch 1: 100%|██████████| 391/391 [01:28<00:00,  4.43it/s, Loss=3.8738, Batch_id=390, Accuracy=8.59]\n"
          ]
        },
        {
          "metadata": {
            "tags": null
          },
          "name": "stdout",
          "output_type": "stream",
          "text": [
            "\n",
            "Test set: Average loss: 3.8557, Accuracy: 1471/10000 (14.71%)\n",
            "\n",
            "✓ Best model saved with accuracy: 14.71%\n",
            "\n",
            "EPOCH: 2\n",
            "\n"
          ]
        },
        {
          "metadata": {
            "tags": null
          },
          "name": "stderr",
          "output_type": "stream",
          "text": [
            "Epoch 2: 100%|██████████| 391/391 [01:28<00:00,  4.42it/s, Loss=4.1764, Batch_id=390, Accuracy=11.56]\n"
          ]
        },
        {
          "metadata": {
            "tags": null
          },
          "name": "stdout",
          "output_type": "stream",
          "text": [
            "\n",
            "Test set: Average loss: 3.6002, Accuracy: 1841/10000 (18.41%)\n",
            "\n",
            "✓ Best model saved with accuracy: 18.41%\n",
            "\n",
            "EPOCH: 3\n",
            "\n"
          ]
        },
        {
          "metadata": {
            "tags": null
          },
          "name": "stderr",
          "output_type": "stream",
          "text": [
            "Epoch 3: 100%|██████████| 391/391 [01:28<00:00,  4.41it/s, Loss=3.4399, Batch_id=390, Accuracy=14.56]\n"
          ]
        },
        {
          "metadata": {
            "tags": null
          },
          "name": "stdout",
          "output_type": "stream",
          "text": [
            "\n",
            "Test set: Average loss: 3.5176, Accuracy: 2164/10000 (21.64%)\n",
            "\n",
            "✓ Best model saved with accuracy: 21.64%\n",
            "\n",
            "EPOCH: 4\n",
            "\n"
          ]
        },
        {
          "metadata": {
            "tags": null
          },
          "name": "stderr",
          "output_type": "stream",
          "text": [
            "Epoch 4: 100%|██████████| 391/391 [01:28<00:00,  4.41it/s, Loss=4.2545, Batch_id=390, Accuracy=16.88]\n"
          ]
        },
        {
          "metadata": {
            "tags": null
          },
          "name": "stdout",
          "output_type": "stream",
          "text": [
            "\n",
            "Test set: Average loss: 3.2991, Accuracy: 2592/10000 (25.92%)\n",
            "\n",
            "✓ Best model saved with accuracy: 25.92%\n",
            "\n",
            "EPOCH: 5\n",
            "\n"
          ]
        },
        {
          "metadata": {
            "tags": null
          },
          "name": "stderr",
          "output_type": "stream",
          "text": [
            "Epoch 5: 100%|██████████| 391/391 [01:28<00:00,  4.41it/s, Loss=4.2131, Batch_id=390, Accuracy=19.97]\n"
          ]
        },
        {
          "metadata": {
            "tags": null
          },
          "name": "stdout",
          "output_type": "stream",
          "text": [
            "\n",
            "Test set: Average loss: 3.3678, Accuracy: 2658/10000 (26.58%)\n",
            "\n",
            "✓ Best model saved with accuracy: 26.58%\n",
            "\n",
            "EPOCH: 6\n",
            "\n"
          ]
        },
        {
          "metadata": {
            "tags": null
          },
          "name": "stderr",
          "output_type": "stream",
          "text": [
            "Epoch 6: 100%|██████████| 391/391 [01:28<00:00,  4.42it/s, Loss=3.6779, Batch_id=390, Accuracy=22.16]\n"
          ]
        },
        {
          "metadata": {
            "tags": null
          },
          "name": "stdout",
          "output_type": "stream",
          "text": [
            "\n",
            "Test set: Average loss: 3.1907, Accuracy: 2776/10000 (27.76%)\n",
            "\n",
            "✓ Best model saved with accuracy: 27.76%\n",
            "\n",
            "EPOCH: 7\n",
            "\n"
          ]
        },
        {
          "metadata": {
            "tags": null
          },
          "name": "stderr",
          "output_type": "stream",
          "text": [
            "Epoch 7: 100%|██████████| 391/391 [01:28<00:00,  4.42it/s, Loss=3.4821, Batch_id=390, Accuracy=25.22]\n"
          ]
        },
        {
          "metadata": {
            "tags": null
          },
          "name": "stdout",
          "output_type": "stream",
          "text": [
            "\n",
            "Test set: Average loss: 2.8959, Accuracy: 3551/10000 (35.51%)\n",
            "\n",
            "✓ Best model saved with accuracy: 35.51%\n",
            "\n",
            "EPOCH: 8\n",
            "\n"
          ]
        },
        {
          "metadata": {
            "tags": null
          },
          "name": "stderr",
          "output_type": "stream",
          "text": [
            "Epoch 8: 100%|██████████| 391/391 [01:28<00:00,  4.40it/s, Loss=4.0097, Batch_id=390, Accuracy=28.18]\n"
          ]
        },
        {
          "metadata": {
            "tags": null
          },
          "name": "stdout",
          "output_type": "stream",
          "text": [
            "\n",
            "Test set: Average loss: 3.1314, Accuracy: 3149/10000 (31.49%)\n",
            "\n",
            "EPOCH: 9\n",
            "\n"
          ]
        },
        {
          "metadata": {
            "tags": null
          },
          "name": "stderr",
          "output_type": "stream",
          "text": [
            "Epoch 9: 100%|██████████| 391/391 [01:28<00:00,  4.41it/s, Loss=2.7717, Batch_id=390, Accuracy=29.42]\n"
          ]
        },
        {
          "metadata": {
            "tags": null
          },
          "name": "stdout",
          "output_type": "stream",
          "text": [
            "\n",
            "Test set: Average loss: 2.7926, Accuracy: 3890/10000 (38.90%)\n",
            "\n",
            "✓ Best model saved with accuracy: 38.90%\n",
            "\n",
            "EPOCH: 10\n",
            "\n"
          ]
        },
        {
          "metadata": {
            "tags": null
          },
          "name": "stderr",
          "output_type": "stream",
          "text": [
            "Epoch 10: 100%|██████████| 391/391 [01:28<00:00,  4.41it/s, Loss=2.7377, Batch_id=390, Accuracy=31.39]\n"
          ]
        },
        {
          "metadata": {
            "tags": null
          },
          "name": "stdout",
          "output_type": "stream",
          "text": [
            "\n",
            "Test set: Average loss: 2.5196, Accuracy: 4483/10000 (44.83%)\n",
            "\n",
            "✓ Best model saved with accuracy: 44.83%\n",
            "\n",
            "EPOCH: 11\n",
            "\n"
          ]
        },
        {
          "metadata": {
            "tags": null
          },
          "name": "stderr",
          "output_type": "stream",
          "text": [
            "Epoch 11: 100%|██████████| 391/391 [01:28<00:00,  4.42it/s, Loss=3.8382, Batch_id=390, Accuracy=32.42]\n"
          ]
        },
        {
          "metadata": {
            "tags": null
          },
          "name": "stdout",
          "output_type": "stream",
          "text": [
            "\n",
            "Test set: Average loss: 2.6173, Accuracy: 4425/10000 (44.25%)\n",
            "\n",
            "EPOCH: 12\n",
            "\n"
          ]
        },
        {
          "metadata": {
            "tags": null
          },
          "name": "stderr",
          "output_type": "stream",
          "text": [
            "Epoch 12: 100%|██████████| 391/391 [01:28<00:00,  4.42it/s, Loss=2.5220, Batch_id=390, Accuracy=34.90]\n"
          ]
        },
        {
          "metadata": {
            "tags": null
          },
          "name": "stdout",
          "output_type": "stream",
          "text": [
            "\n",
            "Test set: Average loss: 2.4185, Accuracy: 4808/10000 (48.08%)\n",
            "\n",
            "✓ Best model saved with accuracy: 48.08%\n",
            "\n",
            "EPOCH: 13\n",
            "\n"
          ]
        },
        {
          "metadata": {
            "tags": null
          },
          "name": "stderr",
          "output_type": "stream",
          "text": [
            "Epoch 13: 100%|██████████| 391/391 [01:28<00:00,  4.41it/s, Loss=2.3182, Batch_id=390, Accuracy=36.57]\n"
          ]
        },
        {
          "metadata": {
            "tags": null
          },
          "name": "stdout",
          "output_type": "stream",
          "text": [
            "\n",
            "Test set: Average loss: 2.4078, Accuracy: 4884/10000 (48.84%)\n",
            "\n",
            "✓ Best model saved with accuracy: 48.84%\n",
            "\n",
            "EPOCH: 14\n",
            "\n"
          ]
        },
        {
          "metadata": {
            "tags": null
          },
          "name": "stderr",
          "output_type": "stream",
          "text": [
            "Epoch 14: 100%|██████████| 391/391 [01:28<00:00,  4.42it/s, Loss=2.5413, Batch_id=390, Accuracy=37.82]\n"
          ]
        },
        {
          "metadata": {
            "tags": null
          },
          "name": "stdout",
          "output_type": "stream",
          "text": [
            "\n",
            "Test set: Average loss: 2.4714, Accuracy: 4710/10000 (47.10%)\n",
            "\n",
            "EPOCH: 15\n",
            "\n"
          ]
        },
        {
          "metadata": {
            "tags": null
          },
          "name": "stderr",
          "output_type": "stream",
          "text": [
            "Epoch 15: 100%|██████████| 391/391 [01:28<00:00,  4.41it/s, Loss=2.3680, Batch_id=390, Accuracy=40.23]\n"
          ]
        },
        {
          "metadata": {
            "tags": null
          },
          "name": "stdout",
          "output_type": "stream",
          "text": [
            "\n",
            "Test set: Average loss: 2.3489, Accuracy: 5032/10000 (50.32%)\n",
            "\n",
            "✓ Best model saved with accuracy: 50.32%\n",
            "\n",
            "EPOCH: 16\n",
            "\n"
          ]
        },
        {
          "metadata": {
            "tags": null
          },
          "name": "stderr",
          "output_type": "stream",
          "text": [
            "Epoch 16: 100%|██████████| 391/391 [01:28<00:00,  4.42it/s, Loss=3.9193, Batch_id=390, Accuracy=38.63]\n"
          ]
        },
        {
          "metadata": {
            "tags": null
          },
          "name": "stdout",
          "output_type": "stream",
          "text": [
            "\n",
            "Test set: Average loss: 2.4856, Accuracy: 4713/10000 (47.13%)\n",
            "\n",
            "EPOCH: 17\n",
            "\n"
          ]
        },
        {
          "metadata": {
            "tags": null
          },
          "name": "stderr",
          "output_type": "stream",
          "text": [
            "Epoch 17: 100%|██████████| 391/391 [01:28<00:00,  4.41it/s, Loss=2.1073, Batch_id=390, Accuracy=40.60]\n"
          ]
        },
        {
          "metadata": {
            "tags": null
          },
          "name": "stdout",
          "output_type": "stream",
          "text": [
            "\n",
            "Test set: Average loss: 2.2287, Accuracy: 5383/10000 (53.83%)\n",
            "\n",
            "✓ Best model saved with accuracy: 53.83%\n",
            "\n",
            "EPOCH: 18\n",
            "\n"
          ]
        },
        {
          "metadata": {
            "tags": null
          },
          "name": "stderr",
          "output_type": "stream",
          "text": [
            "Epoch 18: 100%|██████████| 391/391 [01:28<00:00,  4.42it/s, Loss=2.9299, Batch_id=390, Accuracy=41.72]\n"
          ]
        },
        {
          "metadata": {
            "tags": null
          },
          "name": "stdout",
          "output_type": "stream",
          "text": [
            "\n",
            "Test set: Average loss: 2.2685, Accuracy: 5270/10000 (52.70%)\n",
            "\n",
            "EPOCH: 19\n",
            "\n"
          ]
        },
        {
          "metadata": {
            "tags": null
          },
          "name": "stderr",
          "output_type": "stream",
          "text": [
            "Epoch 19: 100%|██████████| 391/391 [01:28<00:00,  4.41it/s, Loss=2.4052, Batch_id=390, Accuracy=43.04]\n"
          ]
        },
        {
          "metadata": {
            "tags": null
          },
          "name": "stdout",
          "output_type": "stream",
          "text": [
            "\n",
            "Test set: Average loss: 2.2502, Accuracy: 5327/10000 (53.27%)\n",
            "\n",
            "EPOCH: 20\n",
            "\n"
          ]
        },
        {
          "metadata": {
            "tags": null
          },
          "name": "stderr",
          "output_type": "stream",
          "text": [
            "Epoch 20: 100%|██████████| 391/391 [01:28<00:00,  4.43it/s, Loss=2.3650, Batch_id=390, Accuracy=43.24]\n"
          ]
        },
        {
          "metadata": {
            "tags": null
          },
          "name": "stdout",
          "output_type": "stream",
          "text": [
            "\n",
            "Test set: Average loss: 2.3398, Accuracy: 5140/10000 (51.40%)\n",
            "\n",
            "EPOCH: 21\n",
            "\n"
          ]
        },
        {
          "metadata": {
            "tags": null
          },
          "name": "stderr",
          "output_type": "stream",
          "text": [
            "Epoch 21: 100%|██████████| 391/391 [01:28<00:00,  4.41it/s, Loss=2.1778, Batch_id=390, Accuracy=42.79]\n"
          ]
        },
        {
          "metadata": {
            "tags": null
          },
          "name": "stdout",
          "output_type": "stream",
          "text": [
            "\n",
            "Test set: Average loss: 2.3108, Accuracy: 5180/10000 (51.80%)\n",
            "\n",
            "EPOCH: 22\n",
            "\n"
          ]
        },
        {
          "metadata": {
            "tags": null
          },
          "name": "stderr",
          "output_type": "stream",
          "text": [
            "Epoch 22: 100%|██████████| 391/391 [01:28<00:00,  4.42it/s, Loss=3.4100, Batch_id=390, Accuracy=43.37]\n"
          ]
        },
        {
          "metadata": {
            "tags": null
          },
          "name": "stdout",
          "output_type": "stream",
          "text": [
            "\n",
            "Test set: Average loss: 2.2022, Accuracy: 5523/10000 (55.23%)\n",
            "\n",
            "✓ Best model saved with accuracy: 55.23%\n",
            "\n",
            "EPOCH: 23\n",
            "\n"
          ]
        },
        {
          "metadata": {
            "tags": null
          },
          "name": "stderr",
          "output_type": "stream",
          "text": [
            "Epoch 23: 100%|██████████| 391/391 [01:28<00:00,  4.42it/s, Loss=2.9037, Batch_id=390, Accuracy=43.91]\n"
          ]
        },
        {
          "metadata": {
            "tags": null
          },
          "name": "stdout",
          "output_type": "stream",
          "text": [
            "\n",
            "Test set: Average loss: 2.3324, Accuracy: 5145/10000 (51.45%)\n",
            "\n",
            "EPOCH: 24\n",
            "\n"
          ]
        },
        {
          "metadata": {
            "tags": null
          },
          "name": "stderr",
          "output_type": "stream",
          "text": [
            "Epoch 24: 100%|██████████| 391/391 [01:28<00:00,  4.42it/s, Loss=2.0720, Batch_id=390, Accuracy=45.20]\n"
          ]
        },
        {
          "metadata": {
            "tags": null
          },
          "name": "stdout",
          "output_type": "stream",
          "text": [
            "\n",
            "Test set: Average loss: 2.3684, Accuracy: 5036/10000 (50.36%)\n",
            "\n",
            "EPOCH: 25\n",
            "\n"
          ]
        },
        {
          "metadata": {
            "tags": null
          },
          "name": "stderr",
          "output_type": "stream",
          "text": [
            "Epoch 25: 100%|██████████| 391/391 [01:28<00:00,  4.41it/s, Loss=2.0422, Batch_id=390, Accuracy=44.72]\n"
          ]
        },
        {
          "metadata": {
            "tags": null
          },
          "name": "stdout",
          "output_type": "stream",
          "text": [
            "\n",
            "Test set: Average loss: 2.3951, Accuracy: 5079/10000 (50.79%)\n",
            "\n",
            "EPOCH: 26\n",
            "\n"
          ]
        },
        {
          "metadata": {
            "tags": null
          },
          "name": "stderr",
          "output_type": "stream",
          "text": [
            "Epoch 26: 100%|██████████| 391/391 [01:28<00:00,  4.42it/s, Loss=2.3889, Batch_id=390, Accuracy=45.79]\n"
          ]
        },
        {
          "metadata": {
            "tags": null
          },
          "name": "stdout",
          "output_type": "stream",
          "text": [
            "\n",
            "Test set: Average loss: 2.1785, Accuracy: 5613/10000 (56.13%)\n",
            "\n",
            "✓ Best model saved with accuracy: 56.13%\n",
            "\n",
            "EPOCH: 27\n",
            "\n"
          ]
        },
        {
          "metadata": {
            "tags": null
          },
          "name": "stderr",
          "output_type": "stream",
          "text": [
            "Epoch 27: 100%|██████████| 391/391 [01:28<00:00,  4.42it/s, Loss=2.4488, Batch_id=390, Accuracy=46.10]\n"
          ]
        },
        {
          "metadata": {
            "tags": null
          },
          "name": "stdout",
          "output_type": "stream",
          "text": [
            "\n",
            "Test set: Average loss: 2.3158, Accuracy: 5215/10000 (52.15%)\n",
            "\n",
            "EPOCH: 28\n",
            "\n"
          ]
        },
        {
          "metadata": {
            "tags": null
          },
          "name": "stderr",
          "output_type": "stream",
          "text": [
            "Epoch 28: 100%|██████████| 391/391 [01:28<00:00,  4.43it/s, Loss=2.2558, Batch_id=390, Accuracy=45.69]\n"
          ]
        },
        {
          "metadata": {
            "tags": null
          },
          "name": "stdout",
          "output_type": "stream",
          "text": [
            "\n",
            "Test set: Average loss: 2.2956, Accuracy: 5266/10000 (52.66%)\n",
            "\n",
            "EPOCH: 29\n",
            "\n"
          ]
        },
        {
          "metadata": {
            "tags": null
          },
          "name": "stderr",
          "output_type": "stream",
          "text": [
            "Epoch 29: 100%|██████████| 391/391 [01:28<00:00,  4.42it/s, Loss=2.2002, Batch_id=390, Accuracy=45.56]\n"
          ]
        },
        {
          "metadata": {
            "tags": null
          },
          "name": "stdout",
          "output_type": "stream",
          "text": [
            "\n",
            "Test set: Average loss: 2.5615, Accuracy: 4677/10000 (46.77%)\n",
            "\n",
            "EPOCH: 30\n",
            "\n"
          ]
        },
        {
          "metadata": {
            "tags": null
          },
          "name": "stderr",
          "output_type": "stream",
          "text": [
            "Epoch 30: 100%|██████████| 391/391 [01:28<00:00,  4.42it/s, Loss=2.2750, Batch_id=390, Accuracy=45.92]\n"
          ]
        },
        {
          "metadata": {
            "tags": null
          },
          "name": "stdout",
          "output_type": "stream",
          "text": [
            "\n",
            "Test set: Average loss: 2.2214, Accuracy: 5521/10000 (55.21%)\n",
            "\n",
            "EPOCH: 31\n",
            "\n"
          ]
        },
        {
          "metadata": {
            "tags": null
          },
          "name": "stderr",
          "output_type": "stream",
          "text": [
            "Epoch 31: 100%|██████████| 391/391 [01:28<00:00,  4.42it/s, Loss=2.0928, Batch_id=390, Accuracy=47.44]\n"
          ]
        },
        {
          "metadata": {
            "tags": null
          },
          "name": "stdout",
          "output_type": "stream",
          "text": [
            "\n",
            "Test set: Average loss: 2.1618, Accuracy: 5642/10000 (56.42%)\n",
            "\n",
            "✓ Best model saved with accuracy: 56.42%\n",
            "\n",
            "EPOCH: 32\n",
            "\n"
          ]
        },
        {
          "metadata": {
            "tags": null
          },
          "name": "stderr",
          "output_type": "stream",
          "text": [
            "Epoch 32: 100%|██████████| 391/391 [01:28<00:00,  4.43it/s, Loss=2.0063, Batch_id=390, Accuracy=47.95]\n"
          ]
        },
        {
          "metadata": {
            "tags": null
          },
          "name": "stdout",
          "output_type": "stream",
          "text": [
            "\n",
            "Test set: Average loss: 2.1969, Accuracy: 5511/10000 (55.11%)\n",
            "\n",
            "EPOCH: 33\n",
            "\n"
          ]
        },
        {
          "metadata": {
            "tags": null
          },
          "name": "stderr",
          "output_type": "stream",
          "text": [
            "Epoch 33: 100%|██████████| 391/391 [01:28<00:00,  4.43it/s, Loss=2.1189, Batch_id=390, Accuracy=47.61]\n"
          ]
        },
        {
          "metadata": {
            "tags": null
          },
          "name": "stdout",
          "output_type": "stream",
          "text": [
            "\n",
            "Test set: Average loss: 2.1899, Accuracy: 5618/10000 (56.18%)\n",
            "\n",
            "EPOCH: 34\n",
            "\n"
          ]
        },
        {
          "metadata": {
            "tags": null
          },
          "name": "stderr",
          "output_type": "stream",
          "text": [
            "Epoch 34: 100%|██████████| 391/391 [01:28<00:00,  4.43it/s, Loss=2.1388, Batch_id=390, Accuracy=47.96]\n"
          ]
        },
        {
          "metadata": {
            "tags": null
          },
          "name": "stdout",
          "output_type": "stream",
          "text": [
            "\n",
            "Test set: Average loss: 2.2813, Accuracy: 5377/10000 (53.77%)\n",
            "\n",
            "EPOCH: 35\n",
            "\n"
          ]
        },
        {
          "metadata": {
            "tags": null
          },
          "name": "stderr",
          "output_type": "stream",
          "text": [
            "Epoch 35: 100%|██████████| 391/391 [01:28<00:00,  4.43it/s, Loss=2.0055, Batch_id=390, Accuracy=48.45]\n"
          ]
        },
        {
          "metadata": {
            "tags": null
          },
          "name": "stdout",
          "output_type": "stream",
          "text": [
            "\n",
            "Test set: Average loss: 2.0819, Accuracy: 5892/10000 (58.92%)\n",
            "\n",
            "✓ Best model saved with accuracy: 58.92%\n",
            "\n",
            "EPOCH: 36\n",
            "\n"
          ]
        },
        {
          "metadata": {
            "tags": null
          },
          "name": "stderr",
          "output_type": "stream",
          "text": [
            "Epoch 36: 100%|██████████| 391/391 [01:28<00:00,  4.43it/s, Loss=2.0863, Batch_id=390, Accuracy=48.56]\n"
          ]
        },
        {
          "metadata": {
            "tags": null
          },
          "name": "stdout",
          "output_type": "stream",
          "text": [
            "\n",
            "Test set: Average loss: 2.2827, Accuracy: 5401/10000 (54.01%)\n",
            "\n",
            "EPOCH: 37\n",
            "\n"
          ]
        },
        {
          "metadata": {
            "tags": null
          },
          "name": "stderr",
          "output_type": "stream",
          "text": [
            "Epoch 37: 100%|██████████| 391/391 [01:28<00:00,  4.42it/s, Loss=1.8856, Batch_id=390, Accuracy=48.63]\n"
          ]
        },
        {
          "metadata": {
            "tags": null
          },
          "name": "stdout",
          "output_type": "stream",
          "text": [
            "\n",
            "Test set: Average loss: 2.3322, Accuracy: 5258/10000 (52.58%)\n",
            "\n",
            "EPOCH: 38\n",
            "\n"
          ]
        },
        {
          "metadata": {
            "tags": null
          },
          "name": "stderr",
          "output_type": "stream",
          "text": [
            "Epoch 38: 100%|██████████| 391/391 [01:28<00:00,  4.43it/s, Loss=2.2479, Batch_id=390, Accuracy=48.44]\n"
          ]
        },
        {
          "metadata": {
            "tags": null
          },
          "name": "stdout",
          "output_type": "stream",
          "text": [
            "\n",
            "Test set: Average loss: 2.1453, Accuracy: 5722/10000 (57.22%)\n",
            "\n",
            "EPOCH: 39\n",
            "\n"
          ]
        },
        {
          "metadata": {
            "tags": null
          },
          "name": "stderr",
          "output_type": "stream",
          "text": [
            "Epoch 39: 100%|██████████| 391/391 [01:28<00:00,  4.43it/s, Loss=2.1947, Batch_id=390, Accuracy=48.82]\n"
          ]
        },
        {
          "metadata": {
            "tags": null
          },
          "name": "stdout",
          "output_type": "stream",
          "text": [
            "\n",
            "Test set: Average loss: 2.1175, Accuracy: 5817/10000 (58.17%)\n",
            "\n",
            "EPOCH: 40\n",
            "\n"
          ]
        },
        {
          "metadata": {
            "tags": null
          },
          "name": "stderr",
          "output_type": "stream",
          "text": [
            "Epoch 40: 100%|██████████| 391/391 [01:28<00:00,  4.43it/s, Loss=2.0333, Batch_id=390, Accuracy=48.17]\n"
          ]
        },
        {
          "metadata": {
            "tags": null
          },
          "name": "stdout",
          "output_type": "stream",
          "text": [
            "\n",
            "Test set: Average loss: 2.0638, Accuracy: 5944/10000 (59.44%)\n",
            "\n",
            "✓ Best model saved with accuracy: 59.44%\n",
            "\n",
            "EPOCH: 41\n",
            "\n"
          ]
        },
        {
          "metadata": {
            "tags": null
          },
          "name": "stderr",
          "output_type": "stream",
          "text": [
            "Epoch 41: 100%|██████████| 391/391 [01:28<00:00,  4.44it/s, Loss=1.9552, Batch_id=390, Accuracy=49.17]\n"
          ]
        },
        {
          "metadata": {
            "tags": null
          },
          "name": "stdout",
          "output_type": "stream",
          "text": [
            "\n",
            "Test set: Average loss: 2.2107, Accuracy: 5570/10000 (55.70%)\n",
            "\n",
            "EPOCH: 42\n",
            "\n"
          ]
        },
        {
          "metadata": {
            "tags": null
          },
          "name": "stderr",
          "output_type": "stream",
          "text": [
            "Epoch 42: 100%|██████████| 391/391 [01:28<00:00,  4.43it/s, Loss=2.8746, Batch_id=390, Accuracy=48.08]\n"
          ]
        },
        {
          "metadata": {
            "tags": null
          },
          "name": "stdout",
          "output_type": "stream",
          "text": [
            "\n",
            "Test set: Average loss: 2.1834, Accuracy: 5568/10000 (55.68%)\n",
            "\n",
            "EPOCH: 43\n",
            "\n"
          ]
        },
        {
          "metadata": {
            "tags": null
          },
          "name": "stderr",
          "output_type": "stream",
          "text": [
            "Epoch 43: 100%|██████████| 391/391 [01:28<00:00,  4.43it/s, Loss=2.0214, Batch_id=390, Accuracy=49.93]\n"
          ]
        },
        {
          "metadata": {
            "tags": null
          },
          "name": "stdout",
          "output_type": "stream",
          "text": [
            "\n",
            "Test set: Average loss: 2.0225, Accuracy: 6122/10000 (61.22%)\n",
            "\n",
            "✓ Best model saved with accuracy: 61.22%\n",
            "\n",
            "EPOCH: 44\n",
            "\n"
          ]
        },
        {
          "metadata": {
            "tags": null
          },
          "name": "stderr",
          "output_type": "stream",
          "text": [
            "Epoch 44: 100%|██████████| 391/391 [01:28<00:00,  4.43it/s, Loss=2.0288, Batch_id=390, Accuracy=50.52]\n"
          ]
        },
        {
          "metadata": {
            "tags": null
          },
          "name": "stdout",
          "output_type": "stream",
          "text": [
            "\n",
            "Test set: Average loss: 1.9971, Accuracy: 6146/10000 (61.46%)\n",
            "\n",
            "✓ Best model saved with accuracy: 61.46%\n",
            "\n",
            "EPOCH: 45\n",
            "\n"
          ]
        },
        {
          "metadata": {
            "tags": null
          },
          "name": "stderr",
          "output_type": "stream",
          "text": [
            "Epoch 45: 100%|██████████| 391/391 [01:28<00:00,  4.43it/s, Loss=3.5702, Batch_id=390, Accuracy=49.33]\n"
          ]
        },
        {
          "metadata": {
            "tags": null
          },
          "name": "stdout",
          "output_type": "stream",
          "text": [
            "\n",
            "Test set: Average loss: 2.2647, Accuracy: 5441/10000 (54.41%)\n",
            "\n",
            "EPOCH: 46\n",
            "\n"
          ]
        },
        {
          "metadata": {
            "tags": null
          },
          "name": "stderr",
          "output_type": "stream",
          "text": [
            "Epoch 46: 100%|██████████| 391/391 [01:28<00:00,  4.44it/s, Loss=3.4298, Batch_id=390, Accuracy=50.59]\n"
          ]
        },
        {
          "metadata": {
            "tags": null
          },
          "name": "stdout",
          "output_type": "stream",
          "text": [
            "\n",
            "Test set: Average loss: 2.1561, Accuracy: 5780/10000 (57.80%)\n",
            "\n",
            "EPOCH: 47\n",
            "\n"
          ]
        },
        {
          "metadata": {
            "tags": null
          },
          "name": "stderr",
          "output_type": "stream",
          "text": [
            "Epoch 47: 100%|██████████| 391/391 [01:28<00:00,  4.44it/s, Loss=3.3030, Batch_id=390, Accuracy=50.68]\n"
          ]
        },
        {
          "metadata": {
            "tags": null
          },
          "name": "stdout",
          "output_type": "stream",
          "text": [
            "\n",
            "Test set: Average loss: 2.3459, Accuracy: 5266/10000 (52.66%)\n",
            "\n",
            "EPOCH: 48\n",
            "\n"
          ]
        },
        {
          "metadata": {
            "tags": null
          },
          "name": "stderr",
          "output_type": "stream",
          "text": [
            "Epoch 48: 100%|██████████| 391/391 [01:27<00:00,  4.45it/s, Loss=3.2473, Batch_id=390, Accuracy=51.15]\n"
          ]
        },
        {
          "metadata": {
            "tags": null
          },
          "name": "stdout",
          "output_type": "stream",
          "text": [
            "\n",
            "Test set: Average loss: 2.0795, Accuracy: 5926/10000 (59.26%)\n",
            "\n",
            "EPOCH: 49\n",
            "\n"
          ]
        },
        {
          "metadata": {
            "tags": null
          },
          "name": "stderr",
          "output_type": "stream",
          "text": [
            "Epoch 49: 100%|██████████| 391/391 [01:28<00:00,  4.44it/s, Loss=1.9280, Batch_id=390, Accuracy=50.22]\n"
          ]
        },
        {
          "metadata": {
            "tags": null
          },
          "name": "stdout",
          "output_type": "stream",
          "text": [
            "\n",
            "Test set: Average loss: 2.0201, Accuracy: 6032/10000 (60.32%)\n",
            "\n",
            "EPOCH: 50\n",
            "\n"
          ]
        },
        {
          "metadata": {
            "tags": null
          },
          "name": "stderr",
          "output_type": "stream",
          "text": [
            "Epoch 50: 100%|██████████| 391/391 [01:27<00:00,  4.44it/s, Loss=1.9770, Batch_id=390, Accuracy=50.07]\n"
          ]
        },
        {
          "metadata": {
            "tags": null
          },
          "name": "stdout",
          "output_type": "stream",
          "text": [
            "\n",
            "Test set: Average loss: 2.0237, Accuracy: 6073/10000 (60.73%)\n",
            "\n",
            "EPOCH: 51\n",
            "\n"
          ]
        },
        {
          "metadata": {
            "tags": null
          },
          "name": "stderr",
          "output_type": "stream",
          "text": [
            "Epoch 51: 100%|██████████| 391/391 [01:28<00:00,  4.44it/s, Loss=1.7583, Batch_id=390, Accuracy=50.81]\n"
          ]
        },
        {
          "metadata": {
            "tags": null
          },
          "name": "stdout",
          "output_type": "stream",
          "text": [
            "\n",
            "Test set: Average loss: 1.9304, Accuracy: 6339/10000 (63.39%)\n",
            "\n",
            "✓ Best model saved with accuracy: 63.39%\n",
            "\n",
            "EPOCH: 52\n",
            "\n"
          ]
        },
        {
          "metadata": {
            "tags": null
          },
          "name": "stderr",
          "output_type": "stream",
          "text": [
            "Epoch 52: 100%|██████████| 391/391 [01:28<00:00,  4.43it/s, Loss=1.9241, Batch_id=390, Accuracy=51.75]\n"
          ]
        },
        {
          "metadata": {
            "tags": null
          },
          "name": "stdout",
          "output_type": "stream",
          "text": [
            "\n",
            "Test set: Average loss: 2.0074, Accuracy: 6103/10000 (61.03%)\n",
            "\n",
            "EPOCH: 53\n",
            "\n"
          ]
        },
        {
          "metadata": {
            "tags": null
          },
          "name": "stderr",
          "output_type": "stream",
          "text": [
            "Epoch 53: 100%|██████████| 391/391 [01:28<00:00,  4.44it/s, Loss=1.7628, Batch_id=390, Accuracy=50.91]\n"
          ]
        },
        {
          "metadata": {
            "tags": null
          },
          "name": "stdout",
          "output_type": "stream",
          "text": [
            "\n",
            "Test set: Average loss: 1.9133, Accuracy: 6354/10000 (63.54%)\n",
            "\n",
            "✓ Best model saved with accuracy: 63.54%\n",
            "\n",
            "EPOCH: 54\n",
            "\n"
          ]
        },
        {
          "metadata": {
            "tags": null
          },
          "name": "stderr",
          "output_type": "stream",
          "text": [
            "Epoch 54: 100%|██████████| 391/391 [01:28<00:00,  4.44it/s, Loss=3.0703, Batch_id=390, Accuracy=51.70]\n"
          ]
        },
        {
          "metadata": {
            "tags": null
          },
          "name": "stdout",
          "output_type": "stream",
          "text": [
            "\n",
            "Test set: Average loss: 2.0311, Accuracy: 6069/10000 (60.69%)\n",
            "\n",
            "EPOCH: 55\n",
            "\n"
          ]
        },
        {
          "metadata": {
            "tags": null
          },
          "name": "stderr",
          "output_type": "stream",
          "text": [
            "Epoch 55: 100%|██████████| 391/391 [01:28<00:00,  4.44it/s, Loss=1.8270, Batch_id=390, Accuracy=50.93]\n"
          ]
        },
        {
          "metadata": {
            "tags": null
          },
          "name": "stdout",
          "output_type": "stream",
          "text": [
            "\n",
            "Test set: Average loss: 1.9516, Accuracy: 6323/10000 (63.23%)\n",
            "\n",
            "EPOCH: 56\n",
            "\n"
          ]
        },
        {
          "metadata": {
            "tags": null
          },
          "name": "stderr",
          "output_type": "stream",
          "text": [
            "Epoch 56: 100%|██████████| 391/391 [01:28<00:00,  4.44it/s, Loss=1.8845, Batch_id=390, Accuracy=53.72]\n"
          ]
        },
        {
          "metadata": {
            "tags": null
          },
          "name": "stdout",
          "output_type": "stream",
          "text": [
            "\n",
            "Test set: Average loss: 2.0121, Accuracy: 6144/10000 (61.44%)\n",
            "\n",
            "EPOCH: 57\n",
            "\n"
          ]
        },
        {
          "metadata": {
            "tags": null
          },
          "name": "stderr",
          "output_type": "stream",
          "text": [
            "Epoch 57: 100%|██████████| 391/391 [01:28<00:00,  4.44it/s, Loss=3.2073, Batch_id=390, Accuracy=52.23]\n"
          ]
        },
        {
          "metadata": {
            "tags": null
          },
          "name": "stdout",
          "output_type": "stream",
          "text": [
            "\n",
            "Test set: Average loss: 1.9078, Accuracy: 6390/10000 (63.90%)\n",
            "\n",
            "✓ Best model saved with accuracy: 63.90%\n",
            "\n",
            "EPOCH: 58\n",
            "\n"
          ]
        },
        {
          "metadata": {
            "tags": null
          },
          "name": "stderr",
          "output_type": "stream",
          "text": [
            "Epoch 58: 100%|██████████| 391/391 [01:28<00:00,  4.43it/s, Loss=2.0404, Batch_id=390, Accuracy=54.20]\n"
          ]
        },
        {
          "metadata": {
            "tags": null
          },
          "name": "stdout",
          "output_type": "stream",
          "text": [
            "\n",
            "Test set: Average loss: 2.0185, Accuracy: 6155/10000 (61.55%)\n",
            "\n",
            "EPOCH: 59\n",
            "\n"
          ]
        },
        {
          "metadata": {
            "tags": null
          },
          "name": "stderr",
          "output_type": "stream",
          "text": [
            "Epoch 59: 100%|██████████| 391/391 [01:28<00:00,  4.44it/s, Loss=2.7457, Batch_id=390, Accuracy=53.86]\n"
          ]
        },
        {
          "metadata": {
            "tags": null
          },
          "name": "stdout",
          "output_type": "stream",
          "text": [
            "\n",
            "Test set: Average loss: 1.9363, Accuracy: 6354/10000 (63.54%)\n",
            "\n",
            "EPOCH: 60\n",
            "\n"
          ]
        },
        {
          "metadata": {
            "tags": null
          },
          "name": "stderr",
          "output_type": "stream",
          "text": [
            "Epoch 60: 100%|██████████| 391/391 [01:28<00:00,  4.44it/s, Loss=1.8779, Batch_id=390, Accuracy=51.35]\n"
          ]
        },
        {
          "metadata": {
            "tags": null
          },
          "name": "stdout",
          "output_type": "stream",
          "text": [
            "\n",
            "Test set: Average loss: 1.9556, Accuracy: 6316/10000 (63.16%)\n",
            "\n",
            "EPOCH: 61\n",
            "\n"
          ]
        },
        {
          "metadata": {
            "tags": null
          },
          "name": "stderr",
          "output_type": "stream",
          "text": [
            "Epoch 61: 100%|██████████| 391/391 [01:28<00:00,  4.43it/s, Loss=1.9055, Batch_id=390, Accuracy=54.09]\n"
          ]
        },
        {
          "metadata": {
            "tags": null
          },
          "name": "stdout",
          "output_type": "stream",
          "text": [
            "\n",
            "Test set: Average loss: 2.0003, Accuracy: 6130/10000 (61.30%)\n",
            "\n",
            "EPOCH: 62\n",
            "\n"
          ]
        },
        {
          "metadata": {
            "tags": null
          },
          "name": "stderr",
          "output_type": "stream",
          "text": [
            "Epoch 62: 100%|██████████| 391/391 [01:28<00:00,  4.43it/s, Loss=1.8481, Batch_id=390, Accuracy=54.79]\n"
          ]
        },
        {
          "metadata": {
            "tags": null
          },
          "name": "stdout",
          "output_type": "stream",
          "text": [
            "\n",
            "Test set: Average loss: 2.0194, Accuracy: 6097/10000 (60.97%)\n",
            "\n",
            "EPOCH: 63\n",
            "\n"
          ]
        },
        {
          "metadata": {
            "tags": null
          },
          "name": "stderr",
          "output_type": "stream",
          "text": [
            "Epoch 63: 100%|██████████| 391/391 [01:28<00:00,  4.44it/s, Loss=1.7939, Batch_id=390, Accuracy=52.64]\n"
          ]
        },
        {
          "metadata": {
            "tags": null
          },
          "name": "stdout",
          "output_type": "stream",
          "text": [
            "\n",
            "Test set: Average loss: 1.9269, Accuracy: 6388/10000 (63.88%)\n",
            "\n",
            "EPOCH: 64\n",
            "\n"
          ]
        },
        {
          "metadata": {
            "tags": null
          },
          "name": "stderr",
          "output_type": "stream",
          "text": [
            "Epoch 64: 100%|██████████| 391/391 [01:28<00:00,  4.43it/s, Loss=1.8686, Batch_id=390, Accuracy=53.88]\n"
          ]
        },
        {
          "metadata": {
            "tags": null
          },
          "name": "stdout",
          "output_type": "stream",
          "text": [
            "\n",
            "Test set: Average loss: 1.9865, Accuracy: 6191/10000 (61.91%)\n",
            "\n",
            "EPOCH: 65\n",
            "\n"
          ]
        },
        {
          "metadata": {
            "tags": null
          },
          "name": "stderr",
          "output_type": "stream",
          "text": [
            "Epoch 65: 100%|██████████| 391/391 [01:28<00:00,  4.42it/s, Loss=3.1202, Batch_id=390, Accuracy=55.07]\n"
          ]
        },
        {
          "metadata": {
            "tags": null
          },
          "name": "stdout",
          "output_type": "stream",
          "text": [
            "\n",
            "Test set: Average loss: 1.9223, Accuracy: 6417/10000 (64.17%)\n",
            "\n",
            "✓ Best model saved with accuracy: 64.17%\n",
            "\n",
            "EPOCH: 66\n",
            "\n"
          ]
        },
        {
          "metadata": {
            "tags": null
          },
          "name": "stderr",
          "output_type": "stream",
          "text": [
            "Epoch 66: 100%|██████████| 391/391 [01:28<00:00,  4.43it/s, Loss=1.8018, Batch_id=390, Accuracy=53.95]\n"
          ]
        },
        {
          "metadata": {
            "tags": null
          },
          "name": "stdout",
          "output_type": "stream",
          "text": [
            "\n",
            "Test set: Average loss: 1.8665, Accuracy: 6579/10000 (65.79%)\n",
            "\n",
            "✓ Best model saved with accuracy: 65.79%\n",
            "\n",
            "EPOCH: 67\n",
            "\n"
          ]
        },
        {
          "metadata": {
            "tags": null
          },
          "name": "stderr",
          "output_type": "stream",
          "text": [
            "Epoch 67: 100%|██████████| 391/391 [01:28<00:00,  4.44it/s, Loss=1.8541, Batch_id=390, Accuracy=55.44]\n"
          ]
        },
        {
          "metadata": {
            "tags": null
          },
          "name": "stdout",
          "output_type": "stream",
          "text": [
            "\n",
            "Test set: Average loss: 1.8228, Accuracy: 6643/10000 (66.43%)\n",
            "\n",
            "✓ Best model saved with accuracy: 66.43%\n",
            "\n",
            "EPOCH: 68\n",
            "\n"
          ]
        },
        {
          "metadata": {
            "tags": null
          },
          "name": "stderr",
          "output_type": "stream",
          "text": [
            "Epoch 68: 100%|██████████| 391/391 [01:28<00:00,  4.44it/s, Loss=1.8695, Batch_id=390, Accuracy=56.98]\n"
          ]
        },
        {
          "metadata": {
            "tags": null
          },
          "name": "stdout",
          "output_type": "stream",
          "text": [
            "\n",
            "Test set: Average loss: 1.8317, Accuracy: 6684/10000 (66.84%)\n",
            "\n",
            "✓ Best model saved with accuracy: 66.84%\n",
            "\n",
            "EPOCH: 69\n",
            "\n"
          ]
        },
        {
          "metadata": {
            "tags": null
          },
          "name": "stderr",
          "output_type": "stream",
          "text": [
            "Epoch 69: 100%|██████████| 391/391 [01:28<00:00,  4.44it/s, Loss=2.1486, Batch_id=390, Accuracy=56.24]\n"
          ]
        },
        {
          "metadata": {
            "tags": null
          },
          "name": "stdout",
          "output_type": "stream",
          "text": [
            "\n",
            "Test set: Average loss: 1.8487, Accuracy: 6572/10000 (65.72%)\n",
            "\n",
            "EPOCH: 70\n",
            "\n"
          ]
        },
        {
          "metadata": {
            "tags": null
          },
          "name": "stderr",
          "output_type": "stream",
          "text": [
            "Epoch 70: 100%|██████████| 391/391 [01:28<00:00,  4.43it/s, Loss=1.9915, Batch_id=390, Accuracy=55.75]\n"
          ]
        },
        {
          "metadata": {
            "tags": null
          },
          "name": "stdout",
          "output_type": "stream",
          "text": [
            "\n",
            "Test set: Average loss: 1.8373, Accuracy: 6687/10000 (66.87%)\n",
            "\n",
            "✓ Best model saved with accuracy: 66.87%\n",
            "\n",
            "EPOCH: 71\n",
            "\n"
          ]
        },
        {
          "metadata": {
            "tags": null
          },
          "name": "stderr",
          "output_type": "stream",
          "text": [
            "Epoch 71: 100%|██████████| 391/391 [01:28<00:00,  4.44it/s, Loss=1.7183, Batch_id=390, Accuracy=56.81]\n"
          ]
        },
        {
          "metadata": {
            "tags": null
          },
          "name": "stdout",
          "output_type": "stream",
          "text": [
            "\n",
            "Test set: Average loss: 1.8867, Accuracy: 6512/10000 (65.12%)\n",
            "\n",
            "EPOCH: 72\n",
            "\n"
          ]
        },
        {
          "metadata": {
            "tags": null
          },
          "name": "stderr",
          "output_type": "stream",
          "text": [
            "Epoch 72: 100%|██████████| 391/391 [01:28<00:00,  4.43it/s, Loss=1.7208, Batch_id=390, Accuracy=58.03]\n"
          ]
        },
        {
          "metadata": {
            "tags": null
          },
          "name": "stdout",
          "output_type": "stream",
          "text": [
            "\n",
            "Test set: Average loss: 1.7929, Accuracy: 6744/10000 (67.44%)\n",
            "\n",
            "✓ Best model saved with accuracy: 67.44%\n",
            "\n",
            "EPOCH: 73\n",
            "\n"
          ]
        },
        {
          "metadata": {
            "tags": null
          },
          "name": "stderr",
          "output_type": "stream",
          "text": [
            "Epoch 73: 100%|██████████| 391/391 [01:28<00:00,  4.42it/s, Loss=3.0230, Batch_id=390, Accuracy=57.97]\n"
          ]
        },
        {
          "metadata": {
            "tags": null
          },
          "name": "stdout",
          "output_type": "stream",
          "text": [
            "\n",
            "Test set: Average loss: 1.8592, Accuracy: 6577/10000 (65.77%)\n",
            "\n",
            "EPOCH: 74\n",
            "\n"
          ]
        },
        {
          "metadata": {
            "tags": null
          },
          "name": "stderr",
          "output_type": "stream",
          "text": [
            "Epoch 74: 100%|██████████| 391/391 [01:28<00:00,  4.43it/s, Loss=3.3560, Batch_id=390, Accuracy=58.55]\n"
          ]
        },
        {
          "metadata": {
            "tags": null
          },
          "name": "stdout",
          "output_type": "stream",
          "text": [
            "\n",
            "Test set: Average loss: 1.8492, Accuracy: 6606/10000 (66.06%)\n",
            "\n",
            "EPOCH: 75\n",
            "\n"
          ]
        },
        {
          "metadata": {
            "tags": null
          },
          "name": "stderr",
          "output_type": "stream",
          "text": [
            "Epoch 75: 100%|██████████| 391/391 [01:28<00:00,  4.43it/s, Loss=1.5404, Batch_id=390, Accuracy=57.94]\n"
          ]
        },
        {
          "metadata": {
            "tags": null
          },
          "name": "stdout",
          "output_type": "stream",
          "text": [
            "\n",
            "Test set: Average loss: 1.7847, Accuracy: 6833/10000 (68.33%)\n",
            "\n",
            "✓ Best model saved with accuracy: 68.33%\n",
            "\n",
            "EPOCH: 76\n",
            "\n"
          ]
        },
        {
          "metadata": {
            "tags": null
          },
          "name": "stderr",
          "output_type": "stream",
          "text": [
            "Epoch 76: 100%|██████████| 391/391 [01:28<00:00,  4.43it/s, Loss=2.0272, Batch_id=390, Accuracy=59.61]\n"
          ]
        },
        {
          "metadata": {
            "tags": null
          },
          "name": "stdout",
          "output_type": "stream",
          "text": [
            "\n",
            "Test set: Average loss: 1.6894, Accuracy: 7081/10000 (70.81%)\n",
            "\n",
            "✓ Best model saved with accuracy: 70.81%\n",
            "\n",
            "EPOCH: 77\n",
            "\n"
          ]
        },
        {
          "output_type": "stream",
          "name": "stderr",
          "text": [
            "Epoch 77: 100%|██████████| 391/391 [01:28<00:00,  4.44it/s, Loss=1.6407, Batch_id=390, Accuracy=61.09]\n"
          ]
        },
        {
          "output_type": "stream",
          "name": "stdout",
          "text": [
            "\n",
            "Test set: Average loss: 1.7095, Accuracy: 7030/10000 (70.30%)\n",
            "\n",
            "EPOCH: 78\n",
            "\n"
          ]
        },
        {
          "output_type": "stream",
          "name": "stderr",
          "text": [
            "Epoch 78: 100%|██████████| 391/391 [01:28<00:00,  4.43it/s, Loss=3.3469, Batch_id=390, Accuracy=59.20]\n"
          ]
        },
        {
          "output_type": "stream",
          "name": "stdout",
          "text": [
            "\n",
            "Test set: Average loss: 1.7423, Accuracy: 6939/10000 (69.39%)\n",
            "\n",
            "EPOCH: 79\n",
            "\n"
          ]
        },
        {
          "output_type": "stream",
          "name": "stderr",
          "text": [
            "Epoch 79: 100%|██████████| 391/391 [01:28<00:00,  4.44it/s, Loss=1.7026, Batch_id=390, Accuracy=60.52]\n"
          ]
        },
        {
          "output_type": "stream",
          "name": "stdout",
          "text": [
            "\n",
            "Test set: Average loss: 1.6834, Accuracy: 7119/10000 (71.19%)\n",
            "\n",
            "✓ Best model saved with accuracy: 71.19%\n",
            "\n",
            "EPOCH: 80\n",
            "\n"
          ]
        },
        {
          "output_type": "stream",
          "name": "stderr",
          "text": [
            "Epoch 80: 100%|██████████| 391/391 [01:28<00:00,  4.43it/s, Loss=3.2844, Batch_id=390, Accuracy=62.32]\n"
          ]
        },
        {
          "output_type": "stream",
          "name": "stdout",
          "text": [
            "\n",
            "Test set: Average loss: 1.7286, Accuracy: 7020/10000 (70.20%)\n",
            "\n",
            "EPOCH: 81\n",
            "\n"
          ]
        },
        {
          "output_type": "stream",
          "name": "stderr",
          "text": [
            "Epoch 81: 100%|██████████| 391/391 [01:28<00:00,  4.44it/s, Loss=1.6393, Batch_id=390, Accuracy=60.11]\n"
          ]
        },
        {
          "output_type": "stream",
          "name": "stdout",
          "text": [
            "\n",
            "Test set: Average loss: 1.7309, Accuracy: 6968/10000 (69.68%)\n",
            "\n",
            "EPOCH: 82\n",
            "\n"
          ]
        },
        {
          "output_type": "stream",
          "name": "stderr",
          "text": [
            "Epoch 82: 100%|██████████| 391/391 [01:28<00:00,  4.44it/s, Loss=2.7331, Batch_id=390, Accuracy=62.80]\n"
          ]
        },
        {
          "output_type": "stream",
          "name": "stdout",
          "text": [
            "\n",
            "Test set: Average loss: 1.6027, Accuracy: 7376/10000 (73.76%)\n",
            "\n",
            "✓ Best model saved with accuracy: 73.76%\n",
            "\n",
            "EPOCH: 83\n",
            "\n"
          ]
        },
        {
          "output_type": "stream",
          "name": "stderr",
          "text": [
            "Epoch 83: 100%|██████████| 391/391 [01:28<00:00,  4.43it/s, Loss=1.4353, Batch_id=390, Accuracy=64.99]\n"
          ]
        },
        {
          "output_type": "stream",
          "name": "stdout",
          "text": [
            "\n",
            "Test set: Average loss: 1.6163, Accuracy: 7367/10000 (73.67%)\n",
            "\n",
            "EPOCH: 84\n",
            "\n"
          ]
        },
        {
          "output_type": "stream",
          "name": "stderr",
          "text": [
            "Epoch 84: 100%|██████████| 391/391 [01:28<00:00,  4.43it/s, Loss=3.2135, Batch_id=390, Accuracy=64.05]\n"
          ]
        },
        {
          "output_type": "stream",
          "name": "stdout",
          "text": [
            "\n",
            "Test set: Average loss: 1.6498, Accuracy: 7229/10000 (72.29%)\n",
            "\n",
            "EPOCH: 85\n",
            "\n"
          ]
        },
        {
          "output_type": "stream",
          "name": "stderr",
          "text": [
            "Epoch 85: 100%|██████████| 391/391 [01:28<00:00,  4.43it/s, Loss=1.4455, Batch_id=390, Accuracy=66.60]\n"
          ]
        },
        {
          "output_type": "stream",
          "name": "stdout",
          "text": [
            "\n",
            "Test set: Average loss: 1.5483, Accuracy: 7520/10000 (75.20%)\n",
            "\n",
            "✓ Best model saved with accuracy: 75.20%\n",
            "\n",
            "EPOCH: 86\n",
            "\n"
          ]
        },
        {
          "output_type": "stream",
          "name": "stderr",
          "text": [
            "Epoch 86: 100%|██████████| 391/391 [01:28<00:00,  4.44it/s, Loss=1.4513, Batch_id=390, Accuracy=68.44]\n"
          ]
        },
        {
          "output_type": "stream",
          "name": "stdout",
          "text": [
            "\n",
            "Test set: Average loss: 1.5457, Accuracy: 7541/10000 (75.41%)\n",
            "\n",
            "✓ Best model saved with accuracy: 75.41%\n",
            "\n",
            "EPOCH: 87\n",
            "\n"
          ]
        },
        {
          "output_type": "stream",
          "name": "stderr",
          "text": [
            "Epoch 87: 100%|██████████| 391/391 [01:28<00:00,  4.43it/s, Loss=2.4062, Batch_id=390, Accuracy=69.28]\n"
          ]
        },
        {
          "output_type": "stream",
          "name": "stdout",
          "text": [
            "\n",
            "Test set: Average loss: 1.5387, Accuracy: 7540/10000 (75.40%)\n",
            "\n",
            "EPOCH: 88\n",
            "\n"
          ]
        },
        {
          "output_type": "stream",
          "name": "stderr",
          "text": [
            "Epoch 88: 100%|██████████| 391/391 [01:28<00:00,  4.44it/s, Loss=3.0650, Batch_id=390, Accuracy=67.69]\n"
          ]
        },
        {
          "output_type": "stream",
          "name": "stdout",
          "text": [
            "\n",
            "Test set: Average loss: 1.5135, Accuracy: 7637/10000 (76.37%)\n",
            "\n",
            "✓ Best model saved with accuracy: 76.37%\n",
            "\n",
            "EPOCH: 89\n",
            "\n"
          ]
        },
        {
          "output_type": "stream",
          "name": "stderr",
          "text": [
            "Epoch 89: 100%|██████████| 391/391 [01:28<00:00,  4.44it/s, Loss=1.2267, Batch_id=390, Accuracy=68.80]\n"
          ]
        },
        {
          "output_type": "stream",
          "name": "stdout",
          "text": [
            "\n",
            "Test set: Average loss: 1.4838, Accuracy: 7729/10000 (77.29%)\n",
            "\n",
            "✓ Best model saved with accuracy: 77.29%\n",
            "\n",
            "EPOCH: 90\n",
            "\n"
          ]
        },
        {
          "output_type": "stream",
          "name": "stderr",
          "text": [
            "Epoch 90: 100%|██████████| 391/391 [01:28<00:00,  4.44it/s, Loss=1.1367, Batch_id=390, Accuracy=71.24]\n"
          ]
        },
        {
          "output_type": "stream",
          "name": "stdout",
          "text": [
            "\n",
            "Test set: Average loss: 1.4427, Accuracy: 7857/10000 (78.57%)\n",
            "\n",
            "✓ Best model saved with accuracy: 78.57%\n",
            "\n",
            "EPOCH: 91\n",
            "\n"
          ]
        },
        {
          "output_type": "stream",
          "name": "stderr",
          "text": [
            "Epoch 91: 100%|██████████| 391/391 [01:28<00:00,  4.44it/s, Loss=1.1403, Batch_id=390, Accuracy=73.00]\n"
          ]
        },
        {
          "output_type": "stream",
          "name": "stdout",
          "text": [
            "\n",
            "Test set: Average loss: 1.4313, Accuracy: 7908/10000 (79.08%)\n",
            "\n",
            "✓ Best model saved with accuracy: 79.08%\n",
            "\n",
            "EPOCH: 92\n",
            "\n"
          ]
        },
        {
          "output_type": "stream",
          "name": "stderr",
          "text": [
            "Epoch 92: 100%|██████████| 391/391 [01:28<00:00,  4.44it/s, Loss=1.1074, Batch_id=390, Accuracy=73.78]\n"
          ]
        },
        {
          "output_type": "stream",
          "name": "stdout",
          "text": [
            "\n",
            "Test set: Average loss: 1.4163, Accuracy: 7916/10000 (79.16%)\n",
            "\n",
            "✓ Best model saved with accuracy: 79.16%\n",
            "\n",
            "EPOCH: 93\n",
            "\n"
          ]
        },
        {
          "output_type": "stream",
          "name": "stderr",
          "text": [
            "Epoch 93: 100%|██████████| 391/391 [01:28<00:00,  4.44it/s, Loss=1.0696, Batch_id=390, Accuracy=74.57]\n"
          ]
        },
        {
          "output_type": "stream",
          "name": "stdout",
          "text": [
            "\n",
            "Test set: Average loss: 1.4407, Accuracy: 7914/10000 (79.14%)\n",
            "\n",
            "EPOCH: 94\n",
            "\n"
          ]
        },
        {
          "output_type": "stream",
          "name": "stderr",
          "text": [
            "Epoch 94: 100%|██████████| 391/391 [01:28<00:00,  4.44it/s, Loss=1.0754, Batch_id=390, Accuracy=76.69]\n"
          ]
        },
        {
          "output_type": "stream",
          "name": "stdout",
          "text": [
            "\n",
            "Test set: Average loss: 1.4073, Accuracy: 7994/10000 (79.94%)\n",
            "\n",
            "✓ Best model saved with accuracy: 79.94%\n",
            "\n",
            "EPOCH: 95\n",
            "\n"
          ]
        },
        {
          "output_type": "stream",
          "name": "stderr",
          "text": [
            "Epoch 95: 100%|██████████| 391/391 [01:28<00:00,  4.43it/s, Loss=0.9780, Batch_id=390, Accuracy=77.61]\n"
          ]
        },
        {
          "output_type": "stream",
          "name": "stdout",
          "text": [
            "\n",
            "Test set: Average loss: 1.3910, Accuracy: 8031/10000 (80.31%)\n",
            "\n",
            "✓ Best model saved with accuracy: 80.31%\n",
            "\n",
            "EPOCH: 96\n",
            "\n"
          ]
        },
        {
          "output_type": "stream",
          "name": "stderr",
          "text": [
            "Epoch 96: 100%|██████████| 391/391 [01:28<00:00,  4.43it/s, Loss=2.7766, Batch_id=390, Accuracy=76.94]\n"
          ]
        },
        {
          "output_type": "stream",
          "name": "stdout",
          "text": [
            "\n",
            "Test set: Average loss: 1.3883, Accuracy: 8060/10000 (80.60%)\n",
            "\n",
            "✓ Best model saved with accuracy: 80.60%\n",
            "\n",
            "EPOCH: 97\n",
            "\n"
          ]
        },
        {
          "output_type": "stream",
          "name": "stderr",
          "text": [
            "Epoch 97: 100%|██████████| 391/391 [01:28<00:00,  4.43it/s, Loss=1.4671, Batch_id=390, Accuracy=76.22]\n"
          ]
        },
        {
          "output_type": "stream",
          "name": "stdout",
          "text": [
            "\n",
            "Test set: Average loss: 1.3920, Accuracy: 8066/10000 (80.66%)\n",
            "\n",
            "✓ Best model saved with accuracy: 80.66%\n",
            "\n",
            "EPOCH: 98\n",
            "\n"
          ]
        },
        {
          "output_type": "stream",
          "name": "stderr",
          "text": [
            "Epoch 98: 100%|██████████| 391/391 [01:28<00:00,  4.43it/s, Loss=1.8318, Batch_id=390, Accuracy=77.80]\n"
          ]
        },
        {
          "output_type": "stream",
          "name": "stdout",
          "text": [
            "\n",
            "Test set: Average loss: 1.3779, Accuracy: 8087/10000 (80.87%)\n",
            "\n",
            "✓ Best model saved with accuracy: 80.87%\n",
            "\n",
            "EPOCH: 99\n",
            "\n"
          ]
        },
        {
          "output_type": "stream",
          "name": "stderr",
          "text": [
            "Epoch 99: 100%|██████████| 391/391 [01:28<00:00,  4.44it/s, Loss=1.2012, Batch_id=390, Accuracy=78.03]\n"
          ]
        },
        {
          "output_type": "stream",
          "name": "stdout",
          "text": [
            "\n",
            "Test set: Average loss: 1.3922, Accuracy: 8057/10000 (80.57%)\n",
            "\n"
          ]
        },
        {
          "output_type": "display_data",
          "data": {
            "text/plain": [
              "<Figure size 1500x1000 with 4 Axes>"
            ],
            "image/png": "[encoded data removed]"
          },
          "metadata": {}
        },
        {
          "output_type": "stream",
          "name": "stdout",
          "text": [
            "\n",
            "==================================================\n",
            "Training Complete!\n",
            "Best Test Accuracy: 80.87%\n",
            "==================================================\n"
          ]
        }
      ]
    },
    {
      "cell_type": "code",
      "source": [
        "print(f'Total parameters: {sum(p.numel() for p in model.parameters()):,}')\n",
        "\n",
        "# Print model summary\n",
        "try:\n",
        "    from torchsummary import summary\n",
        "    print('\\nModel Architecture Summary:')\n",
        "    summary(model, input_size=(3, 32, 32))\n",
        "except ImportError:\n",
        "    print('\\nInstall torchsummary for detailed architecture: pip install torchsummary')\n",
        "    print(f'Model structure:\\n{model}')"
      ],
      "metadata": {
        "colab": {
          "base_uri": "https://localhost:8080/"
        },
        "id": "ZIhM1l6uSLDQ",
        "outputId": "398bedc1-dbc7-4ba5-f39c-368f292ce7f6"
      },
      "execution_count": 11,
      "outputs": [
        {
          "output_type": "stream",
          "name": "stdout",
          "text": [
            "Total parameters: 30,032,292\n",
            "\n",
            "Model Architecture Summary:\n",
            "----------------------------------------------------------------\n",
            "        Layer (type)               Output Shape         Param #\n",
            "================================================================\n",
            "            Conv2d-1           [-1, 64, 32, 32]           1,728\n",
            "       BatchNorm2d-2           [-1, 64, 32, 32]             128\n",
            "            Conv2d-3           [-1, 64, 32, 32]          36,864\n",
            "       BatchNorm2d-4           [-1, 64, 32, 32]             128\n",
            "            Conv2d-5           [-1, 64, 32, 32]          36,864\n",
            "       BatchNorm2d-6           [-1, 64, 32, 32]             128\n",
            "     ResidualBlock-7           [-1, 64, 32, 32]               0\n",
            "            Conv2d-8           [-1, 64, 32, 32]          36,864\n",
            "       BatchNorm2d-9           [-1, 64, 32, 32]             128\n",
            "           Conv2d-10           [-1, 64, 32, 32]          36,864\n",
            "      BatchNorm2d-11           [-1, 64, 32, 32]             128\n",
            "    ResidualBlock-12           [-1, 64, 32, 32]               0\n",
            "           Conv2d-13           [-1, 64, 32, 32]          36,864\n",
            "      BatchNorm2d-14           [-1, 64, 32, 32]             128\n",
            "           Conv2d-15           [-1, 64, 32, 32]          36,864\n",
            "      BatchNorm2d-16           [-1, 64, 32, 32]             128\n",
            "    ResidualBlock-17           [-1, 64, 32, 32]               0\n",
            "           Conv2d-18           [-1, 64, 32, 32]          36,864\n",
            "      BatchNorm2d-19           [-1, 64, 32, 32]             128\n",
            "           Conv2d-20           [-1, 64, 32, 32]          36,864\n",
            "      BatchNorm2d-21           [-1, 64, 32, 32]             128\n",
            "    ResidualBlock-22           [-1, 64, 32, 32]               0\n",
            "           Conv2d-23           [-1, 64, 32, 32]          36,864\n",
            "      BatchNorm2d-24           [-1, 64, 32, 32]             128\n",
            "           Conv2d-25           [-1, 64, 32, 32]          36,864\n",
            "      BatchNorm2d-26           [-1, 64, 32, 32]             128\n",
            "    ResidualBlock-27           [-1, 64, 32, 32]               0\n",
            "           Conv2d-28          [-1, 128, 16, 16]          73,728\n",
            "      BatchNorm2d-29          [-1, 128, 16, 16]             256\n",
            "           Conv2d-30          [-1, 128, 16, 16]         147,456\n",
            "      BatchNorm2d-31          [-1, 128, 16, 16]             256\n",
            "           Conv2d-32          [-1, 128, 16, 16]           8,192\n",
            "      BatchNorm2d-33          [-1, 128, 16, 16]             256\n",
            "    ResidualBlock-34          [-1, 128, 16, 16]               0\n",
            "           Conv2d-35          [-1, 128, 16, 16]         147,456\n",
            "      BatchNorm2d-36          [-1, 128, 16, 16]             256\n",
            "           Conv2d-37          [-1, 128, 16, 16]         147,456\n",
            "      BatchNorm2d-38          [-1, 128, 16, 16]             256\n",
            "    ResidualBlock-39          [-1, 128, 16, 16]               0\n",
            "           Conv2d-40          [-1, 128, 16, 16]         147,456\n",
            "      BatchNorm2d-41          [-1, 128, 16, 16]             256\n",
            "           Conv2d-42          [-1, 128, 16, 16]         147,456\n",
            "      BatchNorm2d-43          [-1, 128, 16, 16]             256\n",
            "    ResidualBlock-44          [-1, 128, 16, 16]               0\n",
            "           Conv2d-45          [-1, 128, 16, 16]         147,456\n",
            "      BatchNorm2d-46          [-1, 128, 16, 16]             256\n",
            "           Conv2d-47          [-1, 128, 16, 16]         147,456\n",
            "      BatchNorm2d-48          [-1, 128, 16, 16]             256\n",
            "    ResidualBlock-49          [-1, 128, 16, 16]               0\n",
            "           Conv2d-50          [-1, 128, 16, 16]         147,456\n",
            "      BatchNorm2d-51          [-1, 128, 16, 16]             256\n",
            "           Conv2d-52          [-1, 128, 16, 16]         147,456\n",
            "      BatchNorm2d-53          [-1, 128, 16, 16]             256\n",
            "    ResidualBlock-54          [-1, 128, 16, 16]               0\n",
            "           Conv2d-55            [-1, 256, 8, 8]         294,912\n",
            "      BatchNorm2d-56            [-1, 256, 8, 8]             512\n",
            "           Conv2d-57            [-1, 256, 8, 8]         589,824\n",
            "      BatchNorm2d-58            [-1, 256, 8, 8]             512\n",
            "           Conv2d-59            [-1, 256, 8, 8]          32,768\n",
            "      BatchNorm2d-60            [-1, 256, 8, 8]             512\n",
            "    ResidualBlock-61            [-1, 256, 8, 8]               0\n",
            "           Conv2d-62            [-1, 256, 8, 8]         589,824\n",
            "      BatchNorm2d-63            [-1, 256, 8, 8]             512\n",
            "           Conv2d-64            [-1, 256, 8, 8]         589,824\n",
            "      BatchNorm2d-65            [-1, 256, 8, 8]             512\n",
            "    ResidualBlock-66            [-1, 256, 8, 8]               0\n",
            "           Conv2d-67            [-1, 256, 8, 8]         589,824\n",
            "      BatchNorm2d-68            [-1, 256, 8, 8]             512\n",
            "           Conv2d-69            [-1, 256, 8, 8]         589,824\n",
            "      BatchNorm2d-70            [-1, 256, 8, 8]             512\n",
            "    ResidualBlock-71            [-1, 256, 8, 8]               0\n",
            "           Conv2d-72            [-1, 256, 8, 8]         589,824\n",
            "      BatchNorm2d-73            [-1, 256, 8, 8]             512\n",
            "           Conv2d-74            [-1, 256, 8, 8]         589,824\n",
            "      BatchNorm2d-75            [-1, 256, 8, 8]             512\n",
            "    ResidualBlock-76            [-1, 256, 8, 8]               0\n",
            "           Conv2d-77            [-1, 256, 8, 8]         589,824\n",
            "      BatchNorm2d-78            [-1, 256, 8, 8]             512\n",
            "           Conv2d-79            [-1, 256, 8, 8]         589,824\n",
            "      BatchNorm2d-80            [-1, 256, 8, 8]             512\n",
            "    ResidualBlock-81            [-1, 256, 8, 8]               0\n",
            "           Conv2d-82            [-1, 512, 4, 4]       1,179,648\n",
            "      BatchNorm2d-83            [-1, 512, 4, 4]           1,024\n",
            "           Conv2d-84            [-1, 512, 4, 4]       2,359,296\n",
            "      BatchNorm2d-85            [-1, 512, 4, 4]           1,024\n",
            "           Conv2d-86            [-1, 512, 4, 4]         131,072\n",
            "      BatchNorm2d-87            [-1, 512, 4, 4]           1,024\n",
            "    ResidualBlock-88            [-1, 512, 4, 4]               0\n",
            "           Conv2d-89            [-1, 512, 4, 4]       2,359,296\n",
            "      BatchNorm2d-90            [-1, 512, 4, 4]           1,024\n",
            "           Conv2d-91            [-1, 512, 4, 4]       2,359,296\n",
            "      BatchNorm2d-92            [-1, 512, 4, 4]           1,024\n",
            "    ResidualBlock-93            [-1, 512, 4, 4]               0\n",
            "           Conv2d-94            [-1, 512, 4, 4]       2,359,296\n",
            "      BatchNorm2d-95            [-1, 512, 4, 4]           1,024\n",
            "           Conv2d-96            [-1, 512, 4, 4]       2,359,296\n",
            "      BatchNorm2d-97            [-1, 512, 4, 4]           1,024\n",
            "    ResidualBlock-98            [-1, 512, 4, 4]               0\n",
            "           Conv2d-99            [-1, 512, 4, 4]       2,359,296\n",
            "     BatchNorm2d-100            [-1, 512, 4, 4]           1,024\n",
            "          Conv2d-101            [-1, 512, 4, 4]       2,359,296\n",
            "     BatchNorm2d-102            [-1, 512, 4, 4]           1,024\n",
            "   ResidualBlock-103            [-1, 512, 4, 4]               0\n",
            "          Conv2d-104            [-1, 512, 4, 4]       2,359,296\n",
            "     BatchNorm2d-105            [-1, 512, 4, 4]           1,024\n",
            "          Conv2d-106            [-1, 512, 4, 4]       2,359,296\n",
            "     BatchNorm2d-107            [-1, 512, 4, 4]           1,024\n",
            "   ResidualBlock-108            [-1, 512, 4, 4]               0\n",
            "AdaptiveAvgPool2d-109            [-1, 512, 1, 1]               0\n",
            "         Dropout-110                  [-1, 512]               0\n",
            "          Linear-111                  [-1, 100]          51,300\n",
            "================================================================\n",
            "Total params: 30,032,292\n",
            "Trainable params: 30,032,292\n",
            "Non-trainable params: 0\n",
            "----------------------------------------------------------------\n",
            "Input size (MB): 0.01\n",
            "Forward/backward pass size (MB): 25.32\n",
            "Params size (MB): 114.56\n",
            "Estimated Total Size (MB): 139.90\n",
            "----------------------------------------------------------------\n"
          ]
        }
      ]
    },
    {
      "cell_type": "code",
      "source": [],
      "metadata": {
        "id": "A81pJPIpUY31"
      },
      "execution_count": null,
      "outputs": []
    }
  ]
}